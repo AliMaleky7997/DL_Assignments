{
 "cells": [
  {
   "cell_type": "markdown",
   "metadata": {
    "colab_type": "text",
    "id": "WYTOr-1pSuSa"
   },
   "source": [
    "# CE-40959: Deep Learning"
   ]
  },
  {
   "cell_type": "markdown",
   "metadata": {
    "colab_type": "text",
    "id": "iQ38_UlJSuSc"
   },
   "source": [
    "# HW3. Part 3. CNN on CIFAR (20 + 10 points)"
   ]
  },
  {
   "cell_type": "markdown",
   "metadata": {
    "colab_type": "text",
    "id": "MQVCqbcBSuSe"
   },
   "source": [
    "### Deadline:   16 Farvardin"
   ]
  },
  {
   "cell_type": "markdown",
   "metadata": {
    "colab_type": "text",
    "id": "4r9b-T2qSuSf"
   },
   "source": [
    "In this problem, we will train a CNN on CIFAR-10 database. Next, we will go through the network and visualize its layers to see what is happening there. Then, we use the trained model in a Transfer Learning approach to classifying the CIFAR-100 database."
   ]
  },
  {
   "cell_type": "markdown",
   "metadata": {
    "colab_type": "text",
    "id": "10CJCONESuSg"
   },
   "source": [
    "Let's start with loading data. First load the data by runing the code below:"
   ]
  },
  {
   "cell_type": "code",
   "execution_count": 2,
   "metadata": {
    "colab": {
     "base_uri": "https://localhost:8080/",
     "height": 368
    },
    "colab_type": "code",
    "id": "hK4nFbGJSuSh",
    "outputId": "d63b3467-ae67-49a0-84d5-c44f503a1b35"
   },
   "outputs": [],
   "source": [
    "from load_data import load_cifar10 #this function provided in the attached file loads the data of CIFAR10 database\n",
    "\n",
    "def load_cifar10_data():\n",
    "    dataset_dir = 'data/cifar-10-batches-py'\n",
    "    \n",
    "    X_train, y_train, X_test, y_test = load_cifar10(dataset_dir)\n",
    "    X_train, X_val = X_train[:45000], X_train[45000:]\n",
    "    y_train, y_val = y_train[:45000], y_train[45000:]\n",
    "    \n",
    "    return X_train, y_train, X_val, y_val, X_test, y_test"
   ]
  },
  {
   "cell_type": "code",
   "execution_count": 34,
   "metadata": {
    "colab": {
     "base_uri": "https://localhost:8080/",
     "height": 371
    },
    "colab_type": "code",
    "id": "nYKRI028SuSm",
    "outputId": "e6b3c42a-e105-4d54-a746-fd415579c32a"
   },
   "outputs": [
    {
     "name": "stdout",
     "output_type": "stream",
     "text": [
      "X_train shape: (45000, 32, 32, 3)\n",
      "y_train shape: (45000, 1)\n",
      "X_val shape: (5000, 32, 32, 3)\n",
      "y_val shape: (5000, 1)\n",
      "X_test shape: (10000, 32, 32, 3)\n",
      "y_test shape: (10000, 1)\n"
     ]
    },
    {
     "data": {
      "image/png": "[encoded data removed]",
      "text/plain": [
       "<Figure size 432x288 with 1 Axes>"
      ]
     },
     "metadata": {
      "tags": []
     },
     "output_type": "display_data"
    }
   ],
   "source": [
    "# IMPORTANT: I used google colab dataloader. uncomment the below line in case you want to use something else\n",
    "# X_train, y_train, X_val, y_val, X_test, y_test = load_cifar10_data()\n",
    "\n",
    "# comment the following lines if you dont use colab\n",
    "import tensorflow as tf\n",
    "cifar10 = tf.keras.datasets.cifar10\n",
    "(X_train, y_train), (X_test, y_test) = cifar10.load_data()\n",
    "X_train, X_val = X_train[:45000], X_train[45000:]\n",
    "y_train, y_val = y_train[:45000], y_train[45000:]\n",
    "\n",
    "print('X_train shape:', X_train.shape)\n",
    "print('y_train shape:', y_train.shape)\n",
    "print('X_val shape:', X_val.shape)\n",
    "print('y_val shape:', y_val.shape)\n",
    "print('X_test shape:', X_test.shape)\n",
    "print('y_test shape:', y_test.shape)\n",
    "\n",
    "%matplotlib inline\n",
    "import matplotlib.pyplot as plt\n",
    "# print(X_train[1].shape)\n",
    "plt.imshow(X_train[1])#represnting a sample data from CIFAR-10\n",
    "plt.show()"
   ]
  },
  {
   "cell_type": "markdown",
   "metadata": {
    "colab_type": "text",
    "id": "cmiKYfg8SuSu"
   },
   "source": [
    "By successfully runing the above code, you have loaded the data and also you can see a sample data from CIFAR-10."
   ]
  },
  {
   "cell_type": "markdown",
   "metadata": {
    "colab_type": "text",
    "id": "U6L4sI3xSuSv"
   },
   "source": [
    "The below code will convert the labels to one-hot codes which will be later used for the classification."
   ]
  },
  {
   "cell_type": "code",
   "execution_count": 35,
   "metadata": {
    "colab": {
     "base_uri": "https://localhost:8080/",
     "height": 105
    },
    "colab_type": "code",
    "id": "JFSCdxUfSuSw",
    "outputId": "db0bd2c2-b9c3-4d38-fc1b-7984ac4cf1a4"
   },
   "outputs": [
    {
     "name": "stderr",
     "output_type": "stream",
     "text": [
      "/usr/local/lib/python3.6/dist-packages/sklearn/preprocessing/_encoders.py:371: FutureWarning: The handling of integer data will change in version 0.22. Currently, the categories are determined based on the range [0, max(values)], while in the future they will be determined based on the unique values.\n",
      "If you want the future behaviour and silence this warning, you can specify \"categories='auto'\".\n",
      "In case you used a LabelEncoder before this OneHotEncoder to convert the categories to integers, then you can now use the OneHotEncoder directly.\n",
      "  warnings.warn(msg, FutureWarning)\n"
     ]
    }
   ],
   "source": [
    "import numpy as np\n",
    "\n",
    "from sklearn.preprocessing import OneHotEncoder # this function is used to prepare one-hot encoded labels\n",
    "encoder = OneHotEncoder(sparse=False)\n",
    "\n",
    "encoder.fit(y_train)#this line will fit 'encoder' to encode the labels\n",
    "\n",
    "y_train_onehot = encoder.transform(y_train)# encoding train labels (one-hot coding)\n",
    "y_val_onehot   = encoder.transform(y_val)  # encoding train labels (one-hot coding)\n",
    "y_test_onehot  = encoder.transform(y_test) # encoding test  labels (one-hot coding)"
   ]
  },
  {
   "cell_type": "markdown",
   "metadata": {
    "colab_type": "text",
    "id": "WoRozUIzSuS0"
   },
   "source": [
    "The function below is for converting data to several batches which we will use in training."
   ]
  },
  {
   "cell_type": "code",
   "execution_count": 0,
   "metadata": {
    "colab": {},
    "colab_type": "code",
    "id": "fjsaX_n-SuS1"
   },
   "outputs": [],
   "source": [
    "def make_batches(x, y, batch_size):\n",
    "    n = len(y)\n",
    "    steps = n // batch_size\n",
    "    if n % batch_size != 0:\n",
    "        steps += 1\n",
    "    x_batches = np.array_split(x, steps)\n",
    "    y_batches = np.array_split(y, steps)\n",
    "    return x_batches, y_batches"
   ]
  },
  {
   "cell_type": "markdown",
   "metadata": {
    "colab_type": "text",
    "id": "ogXWvcKWSuS3"
   },
   "source": [
    "## Part1: Trainig a CNN (15 pts.)"
   ]
  },
  {
   "cell_type": "markdown",
   "metadata": {
    "colab_type": "text",
    "id": "tN6lTf0NSuS4"
   },
   "source": [
    "In this part, we are going to train a Convolutional Neural Network (CNN) with the below structure:"
   ]
  },
  {
   "cell_type": "markdown",
   "metadata": {
    "colab_type": "text",
    "id": "0kKmMqSZSuS5"
   },
   "source": [
    "1. 16 * conv(5,5), activation function =ReLU\n",
    "2. 16 * conv(5,5), activation function =ReLU\n",
    "3. Max-pooling(3,3), stride=(2,2)\n",
    "4. 32 * conv(5,5), activation function =ReLU\n",
    "5. 32 * conv(5,5), activation function =ReLU\n",
    "6. Max-pooling(3,3), stride=(2,2)\n",
    "7. 64 * conv(5,5), activation function =ReLU\n",
    "8. FC(128), activation function =ReLU\n",
    "9. FC(128), activation function =ReLU\n",
    "10. FC(10), activation function =softmax"
   ]
  },
  {
   "cell_type": "markdown",
   "metadata": {
    "colab_type": "text",
    "id": "jJkpdKEWSuS6"
   },
   "source": [
    "Let's go to implement the model in the below box. Note that using **tf.layers** is **NOT ALLOWED** in this homework."
   ]
  },
  {
   "cell_type": "code",
   "execution_count": 0,
   "metadata": {
    "colab": {},
    "colab_type": "code",
    "id": "cW7sH-tUSuS8"
   },
   "outputs": [],
   "source": [
    "import tensorflow as tf\n",
    "\n",
    "# seed 42: test_acc: 0.67\n",
    "tf.set_random_seed(42)\n",
    "\n",
    "tf.reset_default_graph()\n",
    "x = tf.placeholder(tf.float32, [None, 32, 32, 3]) # placeholder for input data\n",
    "y = tf.placeholder(tf.float32, [None, 10])# placeholder for labels (one-hot encoded)\n",
    "\n",
    "###################################################################\n",
    "#########  TODO: Your code for implementing the network ###########\n",
    "###################################################################\n",
    "\n",
    "# Define the needed Variables here:\n",
    "# e.g., W_conv1 has the shape of shape=[5, 5, 3, 16] and B_conv1 has the shape of shape=[16]\n",
    "W_conv1 = tf.Variable(tf.random.normal(shape=[5, 5, 3, 16], mean=0.0, stddev=0.01))\n",
    "B_conv1 = tf.Variable(tf.zeros(shape=[16]))\n",
    "\n",
    "W_conv2 = tf.Variable(tf.random.normal(shape=[5, 5, 16, 16], mean=0.0, stddev=0.01))\n",
    "B_conv2 = tf.Variable(tf.zeros(shape=[16]))\n",
    "\n",
    "W_conv4 = tf.Variable(tf.random.normal(shape=[5, 5, 16, 32], mean=0.0, stddev=0.01))\n",
    "B_conv4 = tf.Variable(tf.zeros(shape=[32]))\n",
    "\n",
    "W_conv5 = tf.Variable(tf.random.normal(shape=[5, 5, 32, 32], mean=0.0, stddev=0.01))\n",
    "B_conv5 = tf.Variable(tf.zeros(shape=[32]))\n",
    "\n",
    "W_conv7 = tf.Variable(tf.random.normal(shape=[5, 5, 32, 64], mean=0.0, stddev=0.01))\n",
    "B_conv7 = tf.Variable(tf.zeros(shape=[64]))\n",
    "\n",
    "W_fc8 = tf.Variable(tf.random.normal(shape=[8*8*64, 128], mean=0.0, stddev=0.01))\n",
    "B_fc8 = tf.Variable(tf.zeros(shape=[128]))\n",
    "\n",
    "W_fc9 = tf.Variable(tf.random.normal(shape=[128, 128], mean=0.0, stddev=0.01))\n",
    "B_fc9 = tf.Variable(tf.zeros(shape=[128]))\n",
    "\n",
    "W_fc10 = tf.Variable(tf.random.normal(shape=[128, 10], mean=0.0, stddev=0.01))\n",
    "B_fc10 = tf.Variable(tf.zeros(shape=[10]))\n",
    "\n",
    "# Define the layers here:\n",
    "conv1 = tf.nn.conv2d(x, W_conv1, strides=[1, 1, 1, 1], padding='SAME') + B_conv1\n",
    "conv1_relu = tf.nn.relu(conv1)\n",
    "\n",
    "conv2 = tf.nn.conv2d(conv1_relu, W_conv2, strides=[1, 1, 1, 1], padding='SAME') + B_conv2\n",
    "conv2_relu = tf.nn.relu(conv2)\n",
    "\n",
    "pooling3 = tf.nn.max_pool(conv2_relu, ksize=[1, 3, 3, 1], strides=[1, 2, 2, 1], padding='SAME')\n",
    "\n",
    "conv4 = tf.nn.conv2d(pooling3, W_conv4, strides=[1, 1, 1, 1], padding='SAME') + B_conv4\n",
    "conv4_relu = tf.nn.relu(conv4)\n",
    "\n",
    "conv5 = tf.nn.conv2d(conv4_relu, W_conv5, strides=[1, 1, 1, 1], padding='SAME') + B_conv5\n",
    "conv5_relu = tf.nn.relu(conv5)\n",
    "\n",
    "pooling6 = tf.nn.max_pool(conv5_relu, ksize=[1, 3, 3, 1], strides=[1, 2, 2, 1], padding='SAME')\n",
    "\n",
    "conv7 = tf.nn.conv2d(pooling6, W_conv7, strides=[1, 1, 1, 1], padding='SAME') + B_conv7\n",
    "conv7_relu = tf.nn.relu(conv7)\n",
    "\n",
    "# flatten = tf.reshape(conv7_relu, (conv7_relu.shape[0], -1))\n",
    "conv7_relu_shape = conv7_relu.get_shape().as_list()\n",
    "flatten = tf.reshape(conv7_relu, [-1, conv7_relu_shape[1]*conv7_relu_shape[2]*conv7_relu_shape[3]])\n",
    "# flatten = tf.reshape(conv7_relu, (64, -1))\n",
    "\n",
    "fc8 = tf.add(tf.matmul(flatten, W_fc8), B_fc8)\n",
    "fc8_relu = tf.nn.relu(fc8)\n",
    "\n",
    "fc9 = tf.add(tf.matmul(fc8_relu, W_fc9), B_fc9)\n",
    "fc9_relu = tf.nn.relu(fc9)\n",
    "\n",
    "\n",
    "logits = tf.add(tf.matmul(fc9_relu, W_fc10), B_fc10)\n",
    "y_hat = tf.nn.softmax(logits)\n",
    "\n",
    "# print(flatten.shape[0])\n",
    "\n",
    "\n",
    "# continue the same for other layers:\n",
    "    \n",
    "    \n",
    "    \n",
    "# Don't forget that:\n",
    "# - you need to define variables with needed size and suitable initialization,\n",
    "# - you need to use tf.nn.conv2d to implement convolution,\n",
    "# - you need to use tf.nn.max_pool to implement max_pooling,\n",
    "\n",
    "# Help: your network output is something like: y_hat = tf.nn.softmax(logits) where logits are values of last layer \n",
    "#       before softmax activation function.\n",
    "#############################################################"
   ]
  },
  {
   "cell_type": "markdown",
   "metadata": {
    "colab_type": "text",
    "id": "ESGJsaHKSuS-"
   },
   "source": [
    "Now you need to define an optimizer. You are free to use any optimizer. You can change optimizer or learning rate if you want :)"
   ]
  },
  {
   "cell_type": "code",
   "execution_count": 0,
   "metadata": {
    "colab": {},
    "colab_type": "code",
    "id": "RLrUhHJrSuTA"
   },
   "outputs": [],
   "source": [
    "############ Cross entropy loss ############################\n",
    "cross_entropy = tf.reduce_mean(tf.nn.softmax_cross_entropy_with_logits_v2(logits=logits, labels=y))\n",
    "# Note: logits in the above line is the last layer values (a 10-neuron layer) before the softmax activation function. \n",
    "#       In other words, you may have written y_hat = tf.nn.softmax(logits) in the above box in which y_hat is the output\n",
    "#       of the network.\n",
    "\n",
    "############ Adam optimizer ################################\n",
    "lr = 1e-4 # learning rate\n",
    "optimizer = tf.train.AdamOptimizer(learning_rate=lr)\n",
    "trainer = optimizer.minimize(cross_entropy + 0.0005 * (tf.nn.l2_loss(W_conv1) + tf.nn.l2_loss(W_conv2)+ tf.nn.l2_loss(W_fc8) + tf.nn.l2_loss(W_fc9)))\n",
    "\n",
    "############################################################\n",
    "#            TODO: Implement Accuracy                      #\n",
    "############################################################\n",
    "batch_preds = tf.argmax(y_hat, axis=1)\n",
    "correct_preds = tf.argmax(y, axis=1)\n",
    "accuracy = tf.reduce_mean(tf.cast(tf.equal(batch_preds, correct_preds), tf.float32))\n",
    "# Note: The defined accuray does not play any role in the optimization process. However, it is a mtric which we can \n",
    "#       use as a log for mintoring training process with more metrics rather than a single loss function.\n",
    "############################################################"
   ]
  },
  {
   "cell_type": "markdown",
   "metadata": {
    "colab_type": "text",
    "id": "Jy2Ew8ZPSuTE"
   },
   "source": [
    "You can go for the rest of the job, handle the Session and go for training. \n",
    "You can use tensorboard or the code provided in the next box to plot for loss and accuracy of training and validation data.\n",
    "You are expected to achieve at least 60% accuracy on the test data after the training process. Good Luck! ;)"
   ]
  },
  {
   "cell_type": "code",
   "execution_count": 40,
   "metadata": {
    "colab": {
     "base_uri": "https://localhost:8080/",
     "height": 3434
    },
    "colab_type": "code",
    "id": "pTq4Xe3XSuTF",
    "outputId": "37faaa89-30b0-4967-9884-50cb326f83d0"
   },
   "outputs": [
    {
     "name": "stdout",
     "output_type": "stream",
     "text": [
      "\n",
      "********** Epoch   0 **********\n",
      "Train:\t\tAccuracy= 0.2530 \tLoss= 1.9930\n",
      "Validation:\tAccuracy= 0.3166 \tLoss= 1.8201\n",
      "\n",
      "********** Epoch   1 **********\n",
      "Train:\t\tAccuracy= 0.3664 \tLoss= 1.7118\n",
      "Validation:\tAccuracy= 0.3938 \tLoss= 1.6445\n",
      "\n",
      "********** Epoch   2 **********\n",
      "Train:\t\tAccuracy= 0.4182 \tLoss= 1.5760\n",
      "Validation:\tAccuracy= 0.4376 \tLoss= 1.5517\n",
      "\n",
      "********** Epoch   3 **********\n",
      "Train:\t\tAccuracy= 0.4548 \tLoss= 1.4870\n",
      "Validation:\tAccuracy= 0.4774 \tLoss= 1.4566\n",
      "\n",
      "********** Epoch   4 **********\n",
      "Train:\t\tAccuracy= 0.4847 \tLoss= 1.4134\n",
      "Validation:\tAccuracy= 0.5074 \tLoss= 1.3799\n",
      "\n",
      "********** Epoch   5 **********\n",
      "Train:\t\tAccuracy= 0.5120 \tLoss= 1.3384\n",
      "Validation:\tAccuracy= 0.5412 \tLoss= 1.2858\n",
      "\n",
      "********** Epoch   6 **********\n",
      "Train:\t\tAccuracy= 0.5441 \tLoss= 1.2614\n",
      "Validation:\tAccuracy= 0.5716 \tLoss= 1.2029\n",
      "\n",
      "********** Epoch   7 **********\n",
      "Train:\t\tAccuracy= 0.5710 \tLoss= 1.1916\n",
      "Validation:\tAccuracy= 0.5930 \tLoss= 1.1435\n",
      "\n",
      "********** Epoch   8 **********\n",
      "Train:\t\tAccuracy= 0.5919 \tLoss= 1.1303\n",
      "Validation:\tAccuracy= 0.6154 \tLoss= 1.0890\n",
      "\n",
      "********** Epoch   9 **********\n",
      "Train:\t\tAccuracy= 0.6137 \tLoss= 1.0774\n",
      "Validation:\tAccuracy= 0.6372 \tLoss= 1.0316\n",
      "\n",
      "********** Epoch  10 **********\n",
      "Train:\t\tAccuracy= 0.6324 \tLoss= 1.0296\n",
      "Validation:\tAccuracy= 0.6508 \tLoss= 0.9920\n",
      "\n",
      "********** Epoch  11 **********\n",
      "Train:\t\tAccuracy= 0.6487 \tLoss= 0.9844\n",
      "Validation:\tAccuracy= 0.6654 \tLoss= 0.9640\n",
      "\n",
      "********** Epoch  12 **********\n",
      "Train:\t\tAccuracy= 0.6641 \tLoss= 0.9423\n",
      "Validation:\tAccuracy= 0.6734 \tLoss= 0.9372\n",
      "\n",
      "********** Epoch  13 **********\n",
      "Train:\t\tAccuracy= 0.6792 \tLoss= 0.9019\n",
      "Validation:\tAccuracy= 0.6910 \tLoss= 0.9135\n",
      "\n",
      "********** Epoch  14 **********\n",
      "Train:\t\tAccuracy= 0.6927 \tLoss= 0.8658\n",
      "Validation:\tAccuracy= 0.6944 \tLoss= 0.8913\n",
      "\n",
      "********** Epoch  15 **********\n",
      "Train:\t\tAccuracy= 0.7059 \tLoss= 0.8320\n",
      "Validation:\tAccuracy= 0.6986 \tLoss= 0.8874\n",
      "\n",
      "********** Epoch  16 **********\n",
      "Train:\t\tAccuracy= 0.7182 \tLoss= 0.7999\n",
      "Validation:\tAccuracy= 0.7006 \tLoss= 0.8849\n",
      "\n",
      "********** Epoch  17 **********\n",
      "Train:\t\tAccuracy= 0.7297 \tLoss= 0.7690\n",
      "Validation:\tAccuracy= 0.6994 \tLoss= 0.8887\n",
      "\n",
      "********** Epoch  18 **********\n",
      "Train:\t\tAccuracy= 0.7410 \tLoss= 0.7376\n",
      "Validation:\tAccuracy= 0.7042 \tLoss= 0.8770\n",
      "\n",
      "********** Epoch  19 **********\n",
      "Train:\t\tAccuracy= 0.7514 \tLoss= 0.7088\n",
      "Validation:\tAccuracy= 0.6994 \tLoss= 0.8795\n",
      "\n",
      "********** Epoch  20 **********\n",
      "Train:\t\tAccuracy= 0.7626 \tLoss= 0.6811\n",
      "Validation:\tAccuracy= 0.7012 \tLoss= 0.8764\n",
      "\n",
      "********** Epoch  21 **********\n",
      "Train:\t\tAccuracy= 0.7733 \tLoss= 0.6497\n",
      "Validation:\tAccuracy= 0.7098 \tLoss= 0.8576\n",
      "\n",
      "********** Epoch  22 **********\n",
      "Train:\t\tAccuracy= 0.7844 \tLoss= 0.6209\n",
      "Validation:\tAccuracy= 0.7156 \tLoss= 0.8343\n",
      "\n",
      "********** Epoch  23 **********\n",
      "Train:\t\tAccuracy= 0.7950 \tLoss= 0.5913\n",
      "Validation:\tAccuracy= 0.7224 \tLoss= 0.8328\n",
      "\n",
      "********** Epoch  24 **********\n",
      "Train:\t\tAccuracy= 0.8043 \tLoss= 0.5620\n",
      "Validation:\tAccuracy= 0.7234 \tLoss= 0.8406\n",
      "\n",
      "********** Epoch  25 **********\n",
      "Train:\t\tAccuracy= 0.8138 \tLoss= 0.5356\n",
      "Validation:\tAccuracy= 0.7186 \tLoss= 0.8749\n",
      "\n",
      "********** Epoch  26 **********\n",
      "Train:\t\tAccuracy= 0.8202 \tLoss= 0.5135\n",
      "Validation:\tAccuracy= 0.7112 \tLoss= 0.8953\n",
      "\n",
      "********** Epoch  27 **********\n",
      "Train:\t\tAccuracy= 0.8233 \tLoss= 0.4991\n",
      "Validation:\tAccuracy= 0.7224 \tLoss= 0.8622\n",
      "\n",
      "********** Epoch  28 **********\n",
      "Train:\t\tAccuracy= 0.8308 \tLoss= 0.4788\n",
      "Validation:\tAccuracy= 0.7228 \tLoss= 0.8688\n",
      "\n",
      "********** Epoch  29 **********\n",
      "Train:\t\tAccuracy= 0.8433 \tLoss= 0.4447\n",
      "Validation:\tAccuracy= 0.7252 \tLoss= 0.8947\n",
      "\n",
      "********** Epoch  30 **********\n",
      "Train:\t\tAccuracy= 0.8537 \tLoss= 0.4169\n",
      "Validation:\tAccuracy= 0.7260 \tLoss= 0.9254\n",
      "\n",
      "********** Epoch  31 **********\n",
      "Train:\t\tAccuracy= 0.8656 \tLoss= 0.3835\n",
      "Validation:\tAccuracy= 0.7226 \tLoss= 0.9761\n",
      "\n",
      "********** Epoch  32 **********\n",
      "Train:\t\tAccuracy= 0.8734 \tLoss= 0.3606\n",
      "Validation:\tAccuracy= 0.7120 \tLoss= 1.0267\n",
      "\n",
      "********** Epoch  33 **********\n",
      "Train:\t\tAccuracy= 0.8787 \tLoss= 0.3414\n",
      "Validation:\tAccuracy= 0.7088 \tLoss= 1.0818\n",
      "\n",
      "********** Epoch  34 **********\n",
      "Train:\t\tAccuracy= 0.8836 \tLoss= 0.3254\n",
      "Validation:\tAccuracy= 0.7056 \tLoss= 1.1462\n",
      "\n",
      "********** Epoch  35 **********\n",
      "Train:\t\tAccuracy= 0.8877 \tLoss= 0.3099\n",
      "Validation:\tAccuracy= 0.6900 \tLoss= 1.2435\n",
      "\n",
      "********** Epoch  36 **********\n",
      "Train:\t\tAccuracy= 0.8959 \tLoss= 0.2857\n",
      "Validation:\tAccuracy= 0.6878 \tLoss= 1.3561\n",
      "\n",
      "********** Epoch  37 **********\n",
      "Train:\t\tAccuracy= 0.9034 \tLoss= 0.2676\n",
      "Validation:\tAccuracy= 0.6958 \tLoss= 1.3665\n",
      "\n",
      "********** Epoch  38 **********\n",
      "Train:\t\tAccuracy= 0.9122 \tLoss= 0.2437\n",
      "Validation:\tAccuracy= 0.7078 \tLoss= 1.3643\n",
      "\n",
      "********** Epoch  39 **********\n",
      "Train:\t\tAccuracy= 0.9172 \tLoss= 0.2277\n",
      "Validation:\tAccuracy= 0.7218 \tLoss= 1.3362\n",
      "\n",
      "********** Epoch  40 **********\n",
      "Train:\t\tAccuracy= 0.9183 \tLoss= 0.2249\n",
      "Validation:\tAccuracy= 0.7190 \tLoss= 1.3600\n",
      "\n",
      "********** Epoch  41 **********\n",
      "Train:\t\tAccuracy= 0.9273 \tLoss= 0.1999\n",
      "Validation:\tAccuracy= 0.7154 \tLoss= 1.4576\n",
      "\n",
      "********** Epoch  42 **********\n",
      "Train:\t\tAccuracy= 0.9316 \tLoss= 0.1867\n",
      "Validation:\tAccuracy= 0.7162 \tLoss= 1.5397\n",
      "\n",
      "********** Epoch  43 **********\n",
      "Train:\t\tAccuracy= 0.9380 \tLoss= 0.1720\n",
      "Validation:\tAccuracy= 0.7186 \tLoss= 1.5782\n",
      "\n",
      "********** Epoch  44 **********\n",
      "Train:\t\tAccuracy= 0.9442 \tLoss= 0.1563\n",
      "Validation:\tAccuracy= 0.7154 \tLoss= 1.6176\n",
      "\n",
      "********** Epoch  45 **********\n",
      "Train:\t\tAccuracy= 0.9507 \tLoss= 0.1390\n",
      "Validation:\tAccuracy= 0.7166 \tLoss= 1.6399\n",
      "\n",
      "********** Epoch  46 **********\n",
      "Train:\t\tAccuracy= 0.9524 \tLoss= 0.1273\n",
      "Validation:\tAccuracy= 0.7066 \tLoss= 1.7538\n",
      "\n",
      "********** Epoch  47 **********\n",
      "Train:\t\tAccuracy= 0.9554 \tLoss= 0.1214\n",
      "Validation:\tAccuracy= 0.7184 \tLoss= 1.8021\n",
      "\n",
      "********** Epoch  48 **********\n",
      "Train:\t\tAccuracy= 0.9595 \tLoss= 0.1129\n",
      "Validation:\tAccuracy= 0.7008 \tLoss= 1.9587\n",
      "\n",
      "********** Epoch  49 **********\n",
      "Train:\t\tAccuracy= 0.9655 \tLoss= 0.0981\n",
      "Validation:\tAccuracy= 0.7158 \tLoss= 1.9462\n",
      "Test:\tAccuracy= 0.6910 \tLoss= 2.1649\n"
     ]
    }
   ],
   "source": [
    "########## Training ##########\n",
    "batch_size = 64 # You are free to change it\n",
    "x_train_batches, y_train_batches = make_batches(X_train, y_train_onehot, batch_size)\n",
    "epochs = 50  # You are free to change it\n",
    "N_Batches = len(x_train_batches)\n",
    "\n",
    "train_acc  = np.zeros(epochs)\n",
    "train_loss = np.zeros(epochs)\n",
    "val_acc  = np.zeros(epochs)\n",
    "val_loss = np.zeros(epochs)\n",
    "\n",
    "with tf.Session() as sess:\n",
    "    sess.run(tf.global_variables_initializer())\n",
    "\n",
    "    for epoch in range(epochs):\n",
    "        print()\n",
    "        print(\"*\" * 10, \"Epoch %3i\"%epoch, \"*\" * 10)\n",
    "\n",
    "        batch_acc = np.zeros(N_Batches)\n",
    "        batch_loss = np.zeros(N_Batches)\n",
    "        for n in range(N_Batches):\n",
    "            _, batch_acc[n], batch_loss[n] = sess.run([trainer, accuracy, cross_entropy],\n",
    "                                                      {x: x_train_batches[n], y: y_train_batches[n]})\n",
    "            #print(\"Batch %3d/%d: Acc:%0.4f , Loss:%0.4f\"%(n, N_Batches, batch_acc[n], batch_loss[n]))\n",
    "\n",
    "        train_acc[epoch] = np.mean(batch_acc)\n",
    "        train_loss[epoch] = np.mean(batch_loss)\n",
    "        print(\"Train:\\t\\tAccuracy= %0.4f \\tLoss= %0.4f\"%(train_acc[epoch], train_loss[epoch]))\n",
    "\n",
    "        ########## Validation ##########\n",
    "        val_acc[epoch], val_loss[epoch] = sess.run([accuracy, cross_entropy],\n",
    "                                                   {x: X_val, y: y_val_onehot})\n",
    "        print(\"Validation:\\tAccuracy= %0.4f \\tLoss= %0.4f\"%(val_acc[epoch], val_loss[epoch]))\n",
    "    test_acc, test_loss = sess.run([accuracy, cross_entropy],{x: X_test, y: y_test_onehot})\n",
    "    \n",
    "    # save the weights\n",
    "    w_conv1_CIFAR10 = sess.run(W_conv1)\n",
    "    b_conv1_CIFAR10 = sess.run(B_conv1)\n",
    "    w_conv2_CIFAR10 = sess.run(W_conv2)\n",
    "    b_conv2_CIFAR10 = sess.run(B_conv2)\n",
    "    w_conv4_CIFAR10 = sess.run(W_conv4)\n",
    "    b_conv4_CIFAR10 = sess.run(B_conv4)\n",
    "    w_conv5_CIFAR10 = sess.run(W_conv5)\n",
    "    b_conv5_CIFAR10 = sess.run(B_conv5)\n",
    "    w_conv7_CIFAR10 = sess.run(W_conv7)\n",
    "    b_conv7_CIFAR10 = sess.run(B_conv7)\n",
    "    w_fc8_CIFAR10 = sess.run(W_fc8)\n",
    "    b_fc8_CIFAR10 = sess.run(B_fc8)\n",
    "    \n",
    "    \n",
    "    \n",
    "############################################################\n",
    "#            TODO: Implement Test Phase                    #\n",
    "############################################################\n",
    "# test_acc, test_loss = sess.run([accuracy, cross_entropy],{x: X_test, y: y_test_onehot})\n",
    "print(\"Test:\\tAccuracy= %0.4f \\tLoss= %0.4f\"%(test_acc, test_loss))\n",
    "############################################################"
   ]
  },
  {
   "cell_type": "markdown",
   "metadata": {
    "colab_type": "text",
    "id": "ezBZJOBUSuTJ"
   },
   "source": [
    "### Training Diagram"
   ]
  },
  {
   "cell_type": "code",
   "execution_count": 41,
   "metadata": {
    "colab": {
     "base_uri": "https://localhost:8080/",
     "height": 573
    },
    "colab_type": "code",
    "id": "TPm6bG57SuTL",
    "outputId": "64ae08ac-7a82-4887-8a5f-2feb050cacc2"
   },
   "outputs": [
    {
     "data": {
      "image/png": "[encoded data removed]",
      "text/plain": [
       "<Figure size 432x288 with 1 Axes>"
      ]
     },
     "metadata": {
      "tags": []
     },
     "output_type": "display_data"
    },
    {
     "data": {
      "image/png": "[encoded data removed]",
      "text/plain": [
       "<Figure size 432x288 with 1 Axes>"
      ]
     },
     "metadata": {
      "tags": []
     },
     "output_type": "display_data"
    }
   ],
   "source": [
    "########## Plot metrics #########################\n",
    "fig = plt.figure()\n",
    "plt.plot(range(epochs), train_acc, label='Train')\n",
    "plt.plot(range(epochs), val_acc, label='Validation')\n",
    "plt.title(\"Training and Validation Accuracy\")\n",
    "plt.xlabel(\"epoch\")\n",
    "plt.ylabel(\"Accuracy\")\n",
    "plt.grid(True)\n",
    "plt.legend(loc=0)\n",
    "plt.show()\n",
    "\n",
    "fig = plt.figure()\n",
    "plt.plot(range(epochs), train_loss, label='Train')\n",
    "plt.plot(range(epochs), val_loss, label='Validation')\n",
    "plt.title(\"Training and Validation Loss\")\n",
    "plt.xlabel(\"epoch\")\n",
    "plt.ylabel(\"Cross entropy\")\n",
    "plt.grid(True)\n",
    "plt.legend(loc=0)\n",
    "plt.show()"
   ]
  },
  {
   "cell_type": "markdown",
   "metadata": {
    "colab_type": "text",
    "id": "HoZTZ_sFSuTO"
   },
   "source": [
    "## Part2: Visualizing the Network (5 pts.)"
   ]
  },
  {
   "cell_type": "markdown",
   "metadata": {
    "colab_type": "text",
    "id": "z3shN0cSSuTP"
   },
   "source": [
    "Now, we want to check the weights to see how the network realy works and what it does. Consider the wieghts of the first convolutional layer, find its weights values and print the values of 2 arbitrary filters:"
   ]
  },
  {
   "cell_type": "code",
   "execution_count": 42,
   "metadata": {
    "colab": {
     "base_uri": "https://localhost:8080/",
     "height": 697
    },
    "colab_type": "code",
    "id": "Px7Ztj7VSuTQ",
    "outputId": "901ddd15-2be0-4e47-fde8-cd3edefe886e"
   },
   "outputs": [
    {
     "name": "stdout",
     "output_type": "stream",
     "text": [
      "Filter 1:\n",
      "0.10027074\n",
      "0.09376002\n",
      "0.1666923\n",
      "[[ 0.02117966  0.00339012  0.02323322 -0.00116835  0.00285003]\n",
      " [ 0.03674196  0.02160827  0.01635983  0.02096791  0.00609227]\n",
      " [ 0.0414154   0.03263996  0.0271133  -0.0010002   0.00478316]\n",
      " [ 0.02715895  0.02674837  0.02186525 -0.0143199   0.01178217]\n",
      " [ 0.00920603  0.01205144  0.02094045  0.00049157  0.00042583]]\n",
      "[[ 6.6022985e-03 -2.2467943e-02 -2.7283262e-03 -1.0540558e-02\n",
      "  -2.4460144e-02]\n",
      " [ 2.3518132e-02 -1.5954785e-02 -2.6766675e-02 -4.3449238e-02\n",
      "  -3.1677693e-02]\n",
      " [ 2.8681619e-02  6.2593361e-03 -2.1662999e-02 -5.9152264e-02\n",
      "  -3.7931751e-02]\n",
      " [ 4.9565315e-06  2.5951859e-02 -8.7977769e-03 -5.8084857e-02\n",
      "  -2.0883515e-02]\n",
      " [ 8.0127269e-03 -1.0389249e-02 -1.1425596e-02 -1.9372262e-02\n",
      "  -1.9615320e-03]]\n",
      "[[ 0.02058911  0.00957427 -0.00171977 -0.00825722  0.00706188]\n",
      " [ 0.03705781 -0.00773597 -0.01705396 -0.05120302 -0.02682249]\n",
      " [ 0.04140079  0.01212603 -0.02859741 -0.0441236  -0.02683954]\n",
      " [ 0.03408346  0.01397812 -0.00726519 -0.04127291 -0.01078567]\n",
      " [ 0.03001615 -0.00280623 -0.00658142 -0.0005513   0.02215281]]\n",
      "Filter 10:\n",
      "[[ 0.01756906  0.02656266  0.03262958  0.04612112  0.03703152]\n",
      " [-0.00165884 -0.01349222 -0.01495859  0.02511429  0.03690633]\n",
      " [-0.01463289 -0.0362353  -0.04820454 -0.01539438  0.02521993]\n",
      " [-0.00880434 -0.00813508 -0.01013097 -0.02622584  0.00911365]\n",
      " [-0.02903611 -0.01836292  0.00822148 -0.00324641  0.00464275]]\n",
      "[[ 0.01950938  0.0316183   0.03632301  0.0481902   0.04970077]\n",
      " [-0.00065204 -0.01637667 -0.01306557  0.01535512  0.04500677]\n",
      " [-0.03082485 -0.04563361 -0.051937   -0.02055351  0.024672  ]\n",
      " [-0.01277883 -0.0226236  -0.02535041 -0.03213159  0.0107538 ]\n",
      " [-0.02520042 -0.02629988 -0.00147001 -0.01620792 -0.00621892]]\n",
      "[[ 0.00927929  0.01378836  0.02713483  0.03876644  0.03319507]\n",
      " [-0.01717678 -0.04576522 -0.02110228  0.01130544  0.03598797]\n",
      " [-0.04182134 -0.06410337 -0.06369358 -0.03403141  0.02248691]\n",
      " [-0.01957916 -0.02269058 -0.01635146 -0.02545082  0.00588281]\n",
      " [-0.03471694 -0.03329381 -0.0036132  -0.01748121 -0.00607147]]\n"
     ]
    }
   ],
   "source": [
    "##########################################################################\n",
    "# TODO                                                                   #\n",
    "# Note: To retrieve the values of the weight-variables from TensorFlow,  #\n",
    "#       feed-dict is not necessary because                               #\n",
    "#       nothing is calculated.                                           #\n",
    "#       e.g., w = sess.run(weights)                                      #\n",
    "##########################################################################\n",
    "\n",
    "print(\"Filter 1:\")\n",
    "print(np.linalg.norm(w_conv1_CIFAR10[:,:,0,0]))\n",
    "print(np.linalg.norm(w_conv1_CIFAR10[:,:,0,1]))\n",
    "print(np.linalg.norm(w_conv1_CIFAR10[:,:,0,2]))\n",
    "print(w_conv1_CIFAR10[:,:,0,0])\n",
    "print(w_conv1_CIFAR10[:,:,1,0])\n",
    "print(w_conv1_CIFAR10[:,:,2,0])\n",
    "\n",
    "print(\"Filter 10:\")\n",
    "print(w_conv1_CIFAR10[:,:,0,9])\n",
    "print(w_conv1_CIFAR10[:,:,1,9])\n",
    "print(w_conv1_CIFAR10[:,:,2,9])\n",
    "\n",
    "##########################################################################"
   ]
  },
  {
   "cell_type": "markdown",
   "metadata": {
    "colab_type": "text",
    "id": "uWhtBagoSuTT"
   },
   "source": [
    "### Question: Try to interpret what they are doing?"
   ]
  },
  {
   "cell_type": "markdown",
   "metadata": {
    "colab_type": "text",
    "id": "cNIQe5rgSuTV"
   },
   "source": [
    "### Answer: "
   ]
  },
  {
   "cell_type": "markdown",
   "metadata": {
    "colab_type": "text",
    "id": "zJJzAi5PSuTW"
   },
   "source": [
    "As the filters are 5*5, it is not that clear what the filters are doing. According to the visualizations done in the next block, the first filter is trying to focus on red color and 10th filter is trying to find an edge between red and blue color.\n",
    "I ran the code again and the filters changed and my interpretation was based on those values:))\n",
    "> Indented block\n",
    "\n"
   ]
  },
  {
   "cell_type": "markdown",
   "metadata": {
    "colab_type": "text",
    "id": "kBVJ4ZRnSuTX"
   },
   "source": [
    "Now let's visualize the filters of the first conv layer. There are lots of ways to code for visualization. You are free to choose any way you want. However below is function which is provided for you to plot the weights."
   ]
  },
  {
   "cell_type": "code",
   "execution_count": 43,
   "metadata": {
    "colab": {
     "base_uri": "https://localhost:8080/",
     "height": 272
    },
    "colab_type": "code",
    "id": "TNDCP-ZQSuTY",
    "outputId": "0fb8d6d4-34dc-4894-8ae6-13f40cbb6b17"
   },
   "outputs": [
    {
     "name": "stdout",
     "output_type": "stream",
     "text": [
      "(5, 5, 3, 16)\n"
     ]
    },
    {
     "data": {
      "image/png": "[encoded data removed]",
      "text/plain": [
       "<Figure size 432x288 with 16 Axes>"
      ]
     },
     "metadata": {
      "tags": []
     },
     "output_type": "display_data"
    }
   ],
   "source": [
    "import math\n",
    "def plot_conv_weights(w, input_channel=0):\n",
    "    # The argument w is a 4-dim array.(e.g. weights_conv1 with the shape of [5,5,3,64])\n",
    "    # The argument input_channel shows the specified channel of all filters.\n",
    "    \n",
    "    # Get the lowest and highest values for the weights.\n",
    "    # This is used to correct the colour intensity across\n",
    "    # the images so they can be compared with each other.\n",
    "    w_min = np.min(w)\n",
    "    w_max = np.max(w)\n",
    "    abs_max = max(abs(w_min), abs(w_max))\n",
    "\n",
    "    # Number of filters used in the conv. layer.\n",
    "    num_filters = w.shape[3]\n",
    "\n",
    "    # Number of grids to plot.\n",
    "    # Rounded-up, square-root of the number of filters.\n",
    "    num_grids = math.ceil(math.sqrt(num_filters))\n",
    "    \n",
    "    # Create figure with a grid of sub-plots.\n",
    "    fig, axes = plt.subplots(num_grids, num_grids)\n",
    "\n",
    "    # Plot all the filter-weights.\n",
    "    for i, ax in enumerate(axes.flat):\n",
    "        # Only plot the valid filter-weights.\n",
    "        if i<num_filters:\n",
    "            # Get the weights for the i'th filter of the input channel.\n",
    "            # The format of this 4-dim tensor is determined by the\n",
    "            # TensorFlow API. See Tutorial #02 for more details.\n",
    "            img = w[:, :, input_channel, i]\n",
    "\n",
    "            # Plot image.\n",
    "            ax.imshow(img, vmin=-abs_max, vmax=abs_max,\n",
    "                      interpolation='nearest', cmap='seismic')\n",
    "        \n",
    "        # Remove ticks from the plot.\n",
    "        ax.set_xticks([])\n",
    "        ax.set_yticks([])\n",
    "    \n",
    "    # Ensure the plot is shown correctly with multiple plots\n",
    "    # in a single Notebook cell.\n",
    "    plt.show()\n",
    "\n",
    "    \n",
    "##########################################################################\n",
    "# TODO: call the function above or use your own way here                 #\n",
    "##########################################################################\n",
    "\n",
    "print(w_conv1_CIFAR10.shape)\n",
    "plot_conv_weights(w_conv1_CIFAR10)\n",
    "##########################################################################\n"
   ]
  },
  {
   "cell_type": "markdown",
   "metadata": {
    "colab_type": "text",
    "id": "Oi9geOK4SuTf"
   },
   "source": [
    "### Question: Try to interpret what they are doing?"
   ]
  },
  {
   "cell_type": "markdown",
   "metadata": {
    "colab_type": "text",
    "id": "QtrKbBHwSuTh"
   },
   "source": [
    "### Answer: "
   ]
  },
  {
   "cell_type": "markdown",
   "metadata": {
    "colab_type": "text",
    "id": "fsYyEaiaSuTk"
   },
   "source": [
    "Some filters are trying to find edges between colors or finding specific colors in the input image(since it is the first conv layer.)"
   ]
  },
  {
   "cell_type": "markdown",
   "metadata": {
    "colab_type": "text",
    "id": "gTRQAzZoSuTk"
   },
   "source": [
    "## Part3: Transfer Learning (+10 pts. - optional)"
   ]
  },
  {
   "cell_type": "markdown",
   "metadata": {
    "colab_type": "text",
    "id": "GnegSiB1SuTm"
   },
   "source": [
    "In all the machine learning problems we need data to train our models. However, the volume of the data might not be sufficient for the considered model. In such cases, we may use a model which is trained on a similar dataset probably for a different objective. Then we transfer to the main problem and fine- tune or replace some parts of the network. "
   ]
  },
  {
   "cell_type": "markdown",
   "metadata": {
    "colab_type": "text",
    "id": "l97-jH-1SuTm"
   },
   "source": [
    "In this exercise, we are going to implement the transfer learning concept on CNN. For this purpose, we use the network that you have trained on Part 1 of this homework (above) to classify three new classes (i.e. bee, elephant, and fox) on CIFAR-100 dataset. Let's first load the data:"
   ]
  },
  {
   "cell_type": "code",
   "execution_count": 0,
   "metadata": {
    "colab": {},
    "colab_type": "code",
    "id": "uAwgEEwfSuTn"
   },
   "outputs": [],
   "source": [
    "from load_data import load_cifar100 #this function provided in the attached file loads the data of CIFAR100 database\n",
    "\n",
    "def load_cifar100_data():\n",
    "    dataset_dir = 'data/cifar-100-python'\n",
    "    \n",
    "    X_train, y_train, X_test, y_test = load_cifar100(dataset_dir)\n",
    "    \n",
    "    return X_train, y_train, X_test, y_test"
   ]
  },
  {
   "cell_type": "code",
   "execution_count": 44,
   "metadata": {
    "colab": {
     "base_uri": "https://localhost:8080/",
     "height": 337
    },
    "colab_type": "code",
    "id": "-6YhBO9uSuTq",
    "outputId": "9f42ed17-4825-44b3-ebaa-b4ecc55a9a6a"
   },
   "outputs": [
    {
     "name": "stdout",
     "output_type": "stream",
     "text": [
      "X_train shape: (50000, 32, 32, 3)\n",
      "y_train shape: (50000, 1)\n",
      "X_test shape: (10000, 32, 32, 3)\n",
      "y_test shape: (10000, 1)\n"
     ]
    },
    {
     "data": {
      "image/png": "[encoded data removed]",
      "text/plain": [
       "<Figure size 432x288 with 1 Axes>"
      ]
     },
     "metadata": {
      "tags": []
     },
     "output_type": "display_data"
    }
   ],
   "source": [
    "# IMPORTANT: I used google colab dataloader. uncomment the below line in case you want to use something else\n",
    "# X_train, y_train, X_test, y_test = load_cifar100_data()\n",
    "\n",
    "# comment the following two lines if you dont use colab\n",
    "cifar100 = tf.keras.datasets.cifar100\n",
    "(X_train_TL, y_train_TL), (X_test_TL, y_test_TL) = cifar100.load_data()\n",
    "\n",
    "print('X_train shape:', X_train_TL.shape)\n",
    "print('y_train shape:', y_train_TL.shape)\n",
    "print('X_test shape:', X_test_TL.shape)\n",
    "print('y_test shape:', y_test_TL.shape)\n",
    "\n",
    "import matplotlib.pyplot as plt\n",
    "plt.imshow(X_train_TL[1])#represnting a sample data from CIFAR-100\n",
    "plt.show()"
   ]
  },
  {
   "cell_type": "code",
   "execution_count": 0,
   "metadata": {
    "colab": {
     "base_uri": "https://localhost:8080/",
     "height": 300
    },
    "colab_type": "code",
    "id": "0_3VcGRXI1gh",
    "outputId": "bb7bca50-c064-4135-fc5d-59f08e283caf"
   },
   "outputs": [
    {
     "data": {
      "image/png": "[encoded data removed]",
      "text/plain": [
       "<Figure size 432x288 with 1 Axes>"
      ]
     },
     "metadata": {
      "tags": []
     },
     "output_type": "display_data"
    },
    {
     "name": "stdout",
     "output_type": "stream",
     "text": [
      "[1]\n",
      "1500\n"
     ]
    }
   ],
   "source": [
    "idx = 4\n",
    "plt.imshow(X_train_TL[idx])#represnting a sample data from CIFAR-100\n",
    "plt.show()\n",
    "print(y_train_TL[idx])\n",
    "print(selected_images_train.shape[0])"
   ]
  },
  {
   "cell_type": "markdown",
   "metadata": {
    "colab_type": "text",
    "id": "DN40j7mfSuTt"
   },
   "source": [
    "By successfully runing the above code, you have loaded the data and also you can see a sample data from CIFAR-100. The below code will seprate the specified classes (i.e. bee(6), elephant(31), and fox(34)) for the new classification problem."
   ]
  },
  {
   "cell_type": "code",
   "execution_count": 0,
   "metadata": {
    "colab": {},
    "colab_type": "code",
    "id": "pEMobXO-SuTt"
   },
   "outputs": [],
   "source": [
    "selected_images_train = np.zeros([1,32,32,3])\n",
    "selected_labels_train = np.zeros([1,1])\n",
    "for i in range(50000):\n",
    "    label = y_train_TL[i]\n",
    "    if label==6 or label==31 or label==34:\n",
    "        selected_images_train = np.append(selected_images_train,np.reshape(X_train_TL[i,:,:,:],[1,32,32,3]),axis=0)\n",
    "        selected_labels_train = np.append(selected_labels_train,np.reshape(label,[1,1]),axis=0)\n",
    "selected_images_train = selected_images_train[1:]# to remove the first defined np..zeros data\n",
    "selected_labels_train = selected_labels_train[1:]# to remove the first defined np..zeros data\n",
    "\n",
    "\n",
    "selected_images_test = np.zeros([1,32,32,3])\n",
    "selected_labels_test = np.zeros([1,1])\n",
    "for i in range(10000):\n",
    "    label = y_test_TL[i]\n",
    "    if label==6 or label==31 or label==34:\n",
    "        selected_images_test = np.append(selected_images_test,np.reshape(X_test_TL[i,:,:,:],[1,32,32,3]),axis=0)\n",
    "        selected_labels_test = np.append(selected_labels_test,np.reshape(label,[1,1]),axis=0)\n",
    "selected_images_test = selected_images_test[1:]# to remove the first defined np..zeros data\n",
    "selected_labels_test = selected_labels_test[1:]# to remove the first defined np..zeros data"
   ]
  },
  {
   "cell_type": "code",
   "execution_count": 46,
   "metadata": {
    "colab": {
     "base_uri": "https://localhost:8080/",
     "height": 119
    },
    "colab_type": "code",
    "id": "CqZ5DCfgSuTw",
    "outputId": "0856e8e7-a26c-4f15-c59c-a8a13378e561"
   },
   "outputs": [
    {
     "name": "stdout",
     "output_type": "stream",
     "text": [
      "images_train shape: (1200, 32, 32, 3)\n",
      "labels_train shape: (1200, 1)\n",
      "images_validation shape: (300, 32, 32, 3)\n",
      "labels_validation shape: (300, 1)\n",
      "images_test shape: (300, 32, 32, 3)\n",
      "labels_test shape: (300, 1)\n"
     ]
    }
   ],
   "source": [
    "images_train = selected_images_train[:int(selected_images_train.shape[0]*0.8),:,:,:]\n",
    "labels_train = selected_labels_train[:int(selected_images_train.shape[0]*0.8),:]\n",
    "\n",
    "images_validation = selected_images_train[int(selected_images_train.shape[0]*0.8):,:,:,:]\n",
    "labels_validation = selected_labels_train[int(selected_images_train.shape[0]*0.8):,:]\n",
    "\n",
    "images_test = selected_images_test\n",
    "labels_test = selected_labels_test\n",
    "\n",
    "\n",
    "print('images_train shape:', images_train.shape)\n",
    "print('labels_train shape:', labels_train.shape)\n",
    "\n",
    "print('images_validation shape:', images_validation.shape)\n",
    "print('labels_validation shape:', labels_validation.shape)\n",
    "\n",
    "print('images_test shape:', images_test.shape)\n",
    "print('labels_test shape:', labels_test.shape)"
   ]
  },
  {
   "cell_type": "code",
   "execution_count": 47,
   "metadata": {
    "colab": {
     "base_uri": "https://localhost:8080/",
     "height": 105
    },
    "colab_type": "code",
    "id": "7yLYAPXkSuTy",
    "outputId": "6ca954d0-7ef5-42c5-d60e-5d85dda55745"
   },
   "outputs": [
    {
     "name": "stderr",
     "output_type": "stream",
     "text": [
      "/usr/local/lib/python3.6/dist-packages/sklearn/preprocessing/_encoders.py:371: FutureWarning: The handling of integer data will change in version 0.22. Currently, the categories are determined based on the range [0, max(values)], while in the future they will be determined based on the unique values.\n",
      "If you want the future behaviour and silence this warning, you can specify \"categories='auto'\".\n",
      "In case you used a LabelEncoder before this OneHotEncoder to convert the categories to integers, then you can now use the OneHotEncoder directly.\n",
      "  warnings.warn(msg, FutureWarning)\n"
     ]
    }
   ],
   "source": [
    "import numpy as np\n",
    "\n",
    "from sklearn.preprocessing import OneHotEncoder # this function is used to prepare one-hot encoded labels\n",
    "encoder = OneHotEncoder(sparse=False)\n",
    "\n",
    "encoder.fit(selected_labels_train)#this line will fit 'encoder' to encode the labels\n",
    "\n",
    "labels_train_onehot = encoder.transform(labels_train)# encoding train labels (one-hot coding)\n",
    "labels_val_onehot   = encoder.transform(labels_validation)  # encoding train labels (one-hot coding)\n",
    "labels_test_onehot  = encoder.transform(labels_test) # encoding test  labels (one-hot coding)"
   ]
  },
  {
   "cell_type": "markdown",
   "metadata": {
    "colab_type": "text",
    "id": "8PPr3QhuSuT0"
   },
   "source": [
    "To implement the transfer learning, we need to use the previous model and transfer it to the new problem. For this end, you need to freeze the convolution layers and also the first fully connected layer which means that they should not be updated in the new training process. For the last two fully connected layers, we want to fine-tune the values. However, you should replace the last layer (output layer) with a 3-neuron layer to represent the score for each class."
   ]
  },
  {
   "cell_type": "markdown",
   "metadata": {
    "colab_type": "text",
    "id": "-omImKSkSuT1"
   },
   "source": [
    "There are several methods that you can implement the discussed process with TensorFlow. You are free to do any way you want.\n",
    "The below code redefine the network and use the weights of the network trained on CIFAR-10. Then, the frozen weights can be defined as either constant or non-trainable variables. Besides, the fine-tuning weights are also defined as variables with their previous weights in the definition. Anyway, since there are other ways to implement this job, you can do it with your own method."
   ]
  },
  {
   "cell_type": "code",
   "execution_count": 0,
   "metadata": {
    "colab": {},
    "colab_type": "code",
    "id": "CVL7PccPSuT2"
   },
   "outputs": [],
   "source": [
    "############################################################\n",
    "#            TODO: Implement Accuracy Part                 #\n",
    "############################################################\n",
    "\n",
    "# get the weights form previous network:\n",
    "# e.g., w_conv1_CIFAR10 = sess.run(W_conv1)\n",
    "\n",
    "\n",
    "tf.reset_default_graph()\n",
    "\n",
    "x = tf.placeholder(tf.float32, [None, 32, 32, 3]) # placeholder for input data\n",
    "y_new = tf.placeholder(tf.float32, [None, 3])# placeholder for labels (one-hot encoded)\n",
    "\n",
    "# Re-define the convolutional layers\n",
    "\n",
    "conv1 = tf.nn.conv2d(x, w_conv1_CIFAR10, strides=[1, 1, 1, 1], padding='SAME') + b_conv1_CIFAR10\n",
    "conv1_relu = tf.nn.relu(conv1)\n",
    "\n",
    "conv2 = tf.nn.conv2d(conv1_relu, w_conv2_CIFAR10, strides=[1, 1, 1, 1], padding='SAME') + b_conv2_CIFAR10\n",
    "conv2_relu = tf.nn.relu(conv2)\n",
    "\n",
    "pooling3 = tf.nn.max_pool(conv2_relu, ksize=[1, 3, 3, 1], strides=[1, 2, 2, 1], padding='SAME')\n",
    "\n",
    "conv4 = tf.nn.conv2d(pooling3, w_conv4_CIFAR10, strides=[1, 1, 1, 1], padding='SAME') + b_conv4_CIFAR10\n",
    "conv4_relu = tf.nn.relu(conv4)\n",
    "\n",
    "conv5 = tf.nn.conv2d(conv4_relu, w_conv5_CIFAR10, strides=[1, 1, 1, 1], padding='SAME') + b_conv5_CIFAR10\n",
    "conv5_relu = tf.nn.relu(conv5)\n",
    "\n",
    "pooling6 = tf.nn.max_pool(conv5_relu, ksize=[1, 3, 3, 1], strides=[1, 2, 2, 1], padding='SAME')\n",
    "\n",
    "conv7 = tf.nn.conv2d(pooling6, w_conv7_CIFAR10, strides=[1, 1, 1, 1], padding='SAME') + b_conv7_CIFAR10\n",
    "conv7_relu = tf.nn.relu(conv7)\n",
    "\n",
    "# flatten = tf.reshape(conv7_relu, (conv7_relu.shape[0], -1))\n",
    "conv7_relu_shape = conv7_relu.get_shape().as_list()\n",
    "flatten = tf.reshape(conv7_relu, [-1, conv7_relu_shape[1]*conv7_relu_shape[2]*conv7_relu_shape[3]])\n",
    "# flatten = tf.reshape(conv7_relu, (64, -1))\n",
    "\n",
    "fc8 = tf.add(tf.matmul(flatten, w_fc8_CIFAR10), b_fc8_CIFAR10)\n",
    "fc8_relu = tf.nn.relu(fc8)\n",
    "\n",
    "\n",
    "\n",
    "# Define weights for the second FC layer (fc1 is already defined in the previous model)\n",
    "W_fc2_new = tf.Variable(tf.random.normal(shape=[128, 128], mean=0.0, stddev=0.01))\n",
    "B_fc2_new = tf.Variable(tf.zeros(shape=[128]))\n",
    "# Define based on the first fully connected layer.\n",
    "fc2_new = tf.nn.relu(tf.add(tf.matmul(fc8_relu, W_fc2_new), B_fc2_new))\n",
    "\n",
    "W_fc3_new = tf.Variable(tf.random.normal(shape=[128, 3], mean=0.0, stddev=0.01))\n",
    "B_fc3_new = tf.Variable(tf.zeros(shape=[3]))\n",
    "# Define based on the second fully connected layer (fc2_new).\n",
    "logit = tf.matmul(fc2_new, W_fc3_new) + B_fc3_new\n",
    "y_hat = tf.nn.softmax(logit)\n",
    "\n",
    "#############################################################\n",
    "\n",
    "########## Cross entropy loss ##########\n",
    "new_cross_entropy = tf.reduce_mean(tf.nn.softmax_cross_entropy_with_logits_v2(logits=logit, labels=y_new))\n",
    "\n",
    "############################################################\n",
    "#            TODO: Implement the optimizer so that only    #\n",
    "#                  variales defined above are updated.     #\n",
    "############################################################\n",
    "lr = 2*1e-4\n",
    "new_optimizer = tf.train.AdamOptimizer(learning_rate=lr)\n",
    "new_trainer = new_optimizer.minimize(new_cross_entropy, var_list=[W_fc2_new, B_fc2_new, W_fc3_new, B_fc3_new])\n",
    "############################################################\n",
    "\n",
    "############################################################\n",
    "#            TODO: Implement Accuracy                      #\n",
    "############################################################\n",
    "batch_preds_new = tf.argmax(y_hat, axis=1)\n",
    "correct_preds_new = tf.argmax(y_new, axis=1)\n",
    "new_accuracy = tf.reduce_mean(tf.cast(tf.equal(batch_preds_new, correct_preds_new), tf.float32))\n",
    "############################################################"
   ]
  },
  {
   "cell_type": "markdown",
   "metadata": {
    "colab_type": "text",
    "id": "Boe6ZII-SuT5"
   },
   "source": [
    "Now, go for the rest of the job and start training:"
   ]
  },
  {
   "cell_type": "code",
   "execution_count": 50,
   "metadata": {
    "colab": {
     "base_uri": "https://localhost:8080/",
     "height": 3434
    },
    "colab_type": "code",
    "id": "sDgc8X9PSuT6",
    "outputId": "3e039419-bb4f-4fb1-91cb-2775b220a280"
   },
   "outputs": [
    {
     "name": "stdout",
     "output_type": "stream",
     "text": [
      "\n",
      "********** Epoch   0 **********\n",
      "Train:\t\tAccuracy= 0.5202 \tLoss= 1.0027\n",
      "Validation:\tAccuracy= 0.6433 \tLoss= 0.8932\n",
      "\n",
      "********** Epoch   1 **********\n",
      "Train:\t\tAccuracy= 0.6342 \tLoss= 0.8452\n",
      "Validation:\tAccuracy= 0.6533 \tLoss= 0.8015\n",
      "\n",
      "********** Epoch   2 **********\n",
      "Train:\t\tAccuracy= 0.6759 \tLoss= 0.7519\n",
      "Validation:\tAccuracy= 0.6833 \tLoss= 0.7579\n",
      "\n",
      "********** Epoch   3 **********\n",
      "Train:\t\tAccuracy= 0.6951 \tLoss= 0.6981\n",
      "Validation:\tAccuracy= 0.6867 \tLoss= 0.7398\n",
      "\n",
      "********** Epoch   4 **********\n",
      "Train:\t\tAccuracy= 0.7125 \tLoss= 0.6620\n",
      "Validation:\tAccuracy= 0.7000 \tLoss= 0.7328\n",
      "\n",
      "********** Epoch   5 **********\n",
      "Train:\t\tAccuracy= 0.7259 \tLoss= 0.6331\n",
      "Validation:\tAccuracy= 0.7100 \tLoss= 0.7301\n",
      "\n",
      "********** Epoch   6 **********\n",
      "Train:\t\tAccuracy= 0.7334 \tLoss= 0.6076\n",
      "Validation:\tAccuracy= 0.7167 \tLoss= 0.7293\n",
      "\n",
      "********** Epoch   7 **********\n",
      "Train:\t\tAccuracy= 0.7451 \tLoss= 0.5840\n",
      "Validation:\tAccuracy= 0.7233 \tLoss= 0.7295\n",
      "\n",
      "********** Epoch   8 **********\n",
      "Train:\t\tAccuracy= 0.7593 \tLoss= 0.5615\n",
      "Validation:\tAccuracy= 0.7233 \tLoss= 0.7310\n",
      "\n",
      "********** Epoch   9 **********\n",
      "Train:\t\tAccuracy= 0.7693 \tLoss= 0.5399\n",
      "Validation:\tAccuracy= 0.7233 \tLoss= 0.7328\n",
      "\n",
      "********** Epoch  10 **********\n",
      "Train:\t\tAccuracy= 0.7826 \tLoss= 0.5188\n",
      "Validation:\tAccuracy= 0.7200 \tLoss= 0.7350\n",
      "\n",
      "********** Epoch  11 **********\n",
      "Train:\t\tAccuracy= 0.7993 \tLoss= 0.4979\n",
      "Validation:\tAccuracy= 0.7200 \tLoss= 0.7375\n",
      "\n",
      "********** Epoch  12 **********\n",
      "Train:\t\tAccuracy= 0.8101 \tLoss= 0.4773\n",
      "Validation:\tAccuracy= 0.7267 \tLoss= 0.7398\n",
      "\n",
      "********** Epoch  13 **********\n",
      "Train:\t\tAccuracy= 0.8167 \tLoss= 0.4567\n",
      "Validation:\tAccuracy= 0.7300 \tLoss= 0.7425\n",
      "\n",
      "********** Epoch  14 **********\n",
      "Train:\t\tAccuracy= 0.8301 \tLoss= 0.4365\n",
      "Validation:\tAccuracy= 0.7267 \tLoss= 0.7445\n",
      "\n",
      "********** Epoch  15 **********\n",
      "Train:\t\tAccuracy= 0.8442 \tLoss= 0.4165\n",
      "Validation:\tAccuracy= 0.7267 \tLoss= 0.7483\n",
      "\n",
      "********** Epoch  16 **********\n",
      "Train:\t\tAccuracy= 0.8600 \tLoss= 0.3971\n",
      "Validation:\tAccuracy= 0.7233 \tLoss= 0.7519\n",
      "\n",
      "********** Epoch  17 **********\n",
      "Train:\t\tAccuracy= 0.8692 \tLoss= 0.3782\n",
      "Validation:\tAccuracy= 0.7267 \tLoss= 0.7557\n",
      "\n",
      "********** Epoch  18 **********\n",
      "Train:\t\tAccuracy= 0.8875 \tLoss= 0.3600\n",
      "Validation:\tAccuracy= 0.7333 \tLoss= 0.7602\n",
      "\n",
      "********** Epoch  19 **********\n",
      "Train:\t\tAccuracy= 0.8992 \tLoss= 0.3421\n",
      "Validation:\tAccuracy= 0.7333 \tLoss= 0.7646\n",
      "\n",
      "********** Epoch  20 **********\n",
      "Train:\t\tAccuracy= 0.9067 \tLoss= 0.3245\n",
      "Validation:\tAccuracy= 0.7333 \tLoss= 0.7692\n",
      "\n",
      "********** Epoch  21 **********\n",
      "Train:\t\tAccuracy= 0.9133 \tLoss= 0.3081\n",
      "Validation:\tAccuracy= 0.7367 \tLoss= 0.7754\n",
      "\n",
      "********** Epoch  22 **********\n",
      "Train:\t\tAccuracy= 0.9209 \tLoss= 0.2916\n",
      "Validation:\tAccuracy= 0.7367 \tLoss= 0.7812\n",
      "\n",
      "********** Epoch  23 **********\n",
      "Train:\t\tAccuracy= 0.9309 \tLoss= 0.2760\n",
      "Validation:\tAccuracy= 0.7333 \tLoss= 0.7863\n",
      "\n",
      "********** Epoch  24 **********\n",
      "Train:\t\tAccuracy= 0.9392 \tLoss= 0.2609\n",
      "Validation:\tAccuracy= 0.7333 \tLoss= 0.7901\n",
      "\n",
      "********** Epoch  25 **********\n",
      "Train:\t\tAccuracy= 0.9434 \tLoss= 0.2472\n",
      "Validation:\tAccuracy= 0.7333 \tLoss= 0.7965\n",
      "\n",
      "********** Epoch  26 **********\n",
      "Train:\t\tAccuracy= 0.9484 \tLoss= 0.2329\n",
      "Validation:\tAccuracy= 0.7367 \tLoss= 0.8015\n",
      "\n",
      "********** Epoch  27 **********\n",
      "Train:\t\tAccuracy= 0.9575 \tLoss= 0.2200\n",
      "Validation:\tAccuracy= 0.7300 \tLoss= 0.8055\n",
      "\n",
      "********** Epoch  28 **********\n",
      "Train:\t\tAccuracy= 0.9633 \tLoss= 0.2077\n",
      "Validation:\tAccuracy= 0.7367 \tLoss= 0.8115\n",
      "\n",
      "********** Epoch  29 **********\n",
      "Train:\t\tAccuracy= 0.9666 \tLoss= 0.1963\n",
      "Validation:\tAccuracy= 0.7200 \tLoss= 0.8173\n",
      "\n",
      "********** Epoch  30 **********\n",
      "Train:\t\tAccuracy= 0.9708 \tLoss= 0.1850\n",
      "Validation:\tAccuracy= 0.7300 \tLoss= 0.8234\n",
      "\n",
      "********** Epoch  31 **********\n",
      "Train:\t\tAccuracy= 0.9708 \tLoss= 0.1748\n",
      "Validation:\tAccuracy= 0.7300 \tLoss= 0.8283\n",
      "\n",
      "********** Epoch  32 **********\n",
      "Train:\t\tAccuracy= 0.9758 \tLoss= 0.1651\n",
      "Validation:\tAccuracy= 0.7300 \tLoss= 0.8346\n",
      "\n",
      "********** Epoch  33 **********\n",
      "Train:\t\tAccuracy= 0.9767 \tLoss= 0.1560\n",
      "Validation:\tAccuracy= 0.7233 \tLoss= 0.8387\n",
      "\n",
      "********** Epoch  34 **********\n",
      "Train:\t\tAccuracy= 0.9783 \tLoss= 0.1471\n",
      "Validation:\tAccuracy= 0.7233 \tLoss= 0.8457\n",
      "\n",
      "********** Epoch  35 **********\n",
      "Train:\t\tAccuracy= 0.9792 \tLoss= 0.1391\n",
      "Validation:\tAccuracy= 0.7233 \tLoss= 0.8493\n",
      "\n",
      "********** Epoch  36 **********\n",
      "Train:\t\tAccuracy= 0.9825 \tLoss= 0.1313\n",
      "Validation:\tAccuracy= 0.7267 \tLoss= 0.8573\n",
      "\n",
      "********** Epoch  37 **********\n",
      "Train:\t\tAccuracy= 0.9867 \tLoss= 0.1240\n",
      "Validation:\tAccuracy= 0.7267 \tLoss= 0.8617\n",
      "\n",
      "********** Epoch  38 **********\n",
      "Train:\t\tAccuracy= 0.9900 \tLoss= 0.1171\n",
      "Validation:\tAccuracy= 0.7300 \tLoss= 0.8665\n",
      "\n",
      "********** Epoch  39 **********\n",
      "Train:\t\tAccuracy= 0.9925 \tLoss= 0.1104\n",
      "Validation:\tAccuracy= 0.7267 \tLoss= 0.8733\n",
      "\n",
      "********** Epoch  40 **********\n",
      "Train:\t\tAccuracy= 0.9942 \tLoss= 0.1043\n",
      "Validation:\tAccuracy= 0.7267 \tLoss= 0.8781\n",
      "\n",
      "********** Epoch  41 **********\n",
      "Train:\t\tAccuracy= 0.9942 \tLoss= 0.0985\n",
      "Validation:\tAccuracy= 0.7267 \tLoss= 0.8834\n",
      "\n",
      "********** Epoch  42 **********\n",
      "Train:\t\tAccuracy= 0.9942 \tLoss= 0.0931\n",
      "Validation:\tAccuracy= 0.7233 \tLoss= 0.8909\n",
      "\n",
      "********** Epoch  43 **********\n",
      "Train:\t\tAccuracy= 0.9950 \tLoss= 0.0881\n",
      "Validation:\tAccuracy= 0.7233 \tLoss= 0.8968\n",
      "\n",
      "********** Epoch  44 **********\n",
      "Train:\t\tAccuracy= 0.9950 \tLoss= 0.0833\n",
      "Validation:\tAccuracy= 0.7200 \tLoss= 0.9040\n",
      "\n",
      "********** Epoch  45 **********\n",
      "Train:\t\tAccuracy= 0.9958 \tLoss= 0.0790\n",
      "Validation:\tAccuracy= 0.7267 \tLoss= 0.9125\n",
      "\n",
      "********** Epoch  46 **********\n",
      "Train:\t\tAccuracy= 0.9958 \tLoss= 0.0748\n",
      "Validation:\tAccuracy= 0.7267 \tLoss= 0.9218\n",
      "\n",
      "********** Epoch  47 **********\n",
      "Train:\t\tAccuracy= 0.9958 \tLoss= 0.0707\n",
      "Validation:\tAccuracy= 0.7300 \tLoss= 0.9303\n",
      "\n",
      "********** Epoch  48 **********\n",
      "Train:\t\tAccuracy= 0.9967 \tLoss= 0.0672\n",
      "Validation:\tAccuracy= 0.7300 \tLoss= 0.9385\n",
      "\n",
      "********** Epoch  49 **********\n",
      "Train:\t\tAccuracy= 0.9967 \tLoss= 0.0636\n",
      "Validation:\tAccuracy= 0.7267 \tLoss= 0.9486\n",
      "Test:\tAccuracy= 0.6910 \tLoss= 2.1649\n"
     ]
    }
   ],
   "source": [
    "########## Training ##########\n",
    "batch_size = 64 # You are free to change it\n",
    "x_train_batches, y_train_batches = make_batches(images_train, labels_train_onehot, batch_size)\n",
    "epochs = 50  # You are free to change it\n",
    "N_Batches = len(x_train_batches)\n",
    "\n",
    "train_acc  = np.zeros(epochs)\n",
    "train_loss = np.zeros(epochs)\n",
    "val_acc  = np.zeros(epochs)\n",
    "val_loss = np.zeros(epochs)\n",
    "\n",
    "with tf.Session() as sess:\n",
    "    sess.run(tf.global_variables_initializer())\n",
    "    for epoch in range(epochs):\n",
    "        print()\n",
    "        print(\"*\" * 10, \"Epoch %3i\"%epoch, \"*\" * 10)\n",
    "\n",
    "        batch_acc = np.zeros(N_Batches)\n",
    "        batch_loss = np.zeros(N_Batches)\n",
    "        for n in range(N_Batches):\n",
    "            _, batch_acc[n], batch_loss[n] = sess.run([new_trainer, new_accuracy, new_cross_entropy],\n",
    "                                                      {x: x_train_batches[n], y_new: y_train_batches[n]})\n",
    "            #print(\"Batch %3d/%d: Acc:%0.4f , Loss:%0.4f\"%(n, N_Batches, batch_acc[n], batch_loss[n]))\n",
    "\n",
    "        train_acc[epoch] = np.mean(batch_acc)\n",
    "        train_loss[epoch] = np.mean(batch_loss)\n",
    "        print(\"Train:\\t\\tAccuracy= %0.4f \\tLoss= %0.4f\"%(train_acc[epoch], train_loss[epoch]))\n",
    "\n",
    "        ########## Validation ##########\n",
    "        val_acc[epoch], val_loss[epoch] = sess.run([new_accuracy, new_cross_entropy],\n",
    "                                                   {x: images_validation, y_new: labels_val_onehot})\n",
    "        print(\"Validation:\\tAccuracy= %0.4f \\tLoss= %0.4f\"%(val_acc[epoch], val_loss[epoch]))\n",
    "        \n",
    "############################################################\n",
    "#            TODO: Implement Test Phase                    #\n",
    "############################################################\n",
    "...\n",
    "print(\"Test:\\tAccuracy= %0.4f \\tLoss= %0.4f\"%(test_acc, test_loss))\n",
    "############################################################"
   ]
  },
  {
   "cell_type": "markdown",
   "metadata": {
    "colab_type": "text",
    "id": "ZwWc5pxDSuT-"
   },
   "source": [
    "You can use tensorboard or the code provided in the next box to plot for loss and accuracy of training and validation data. You are expected to achieve at least 80% accuracy on the test data after training. Good Luck! ;)"
   ]
  },
  {
   "cell_type": "markdown",
   "metadata": {
    "colab_type": "text",
    "id": "0nNpJgWfSuT_"
   },
   "source": [
    "### Training Diagram"
   ]
  },
  {
   "cell_type": "code",
   "execution_count": 51,
   "metadata": {
    "colab": {
     "base_uri": "https://localhost:8080/",
     "height": 573
    },
    "colab_type": "code",
    "id": "fPnjFEtfSuT_",
    "outputId": "e4c51ada-d414-4d12-e3e5-348fea0c358a"
   },
   "outputs": [
    {
     "data": {
      "image/png": "[encoded data removed]",
      "text/plain": [
       "<Figure size 432x288 with 1 Axes>"
      ]
     },
     "metadata": {
      "tags": []
     },
     "output_type": "display_data"
    },
    {
     "data": {
      "image/png": "[encoded data removed]",
      "text/plain": [
       "<Figure size 432x288 with 1 Axes>"
      ]
     },
     "metadata": {
      "tags": []
     },
     "output_type": "display_data"
    }
   ],
   "source": [
    "########## Plot metrics #########################\n",
    "fig = plt.figure()\n",
    "plt.plot(range(epochs), train_acc, label='Train')\n",
    "plt.plot(range(epochs), val_acc, label='Validation')\n",
    "plt.title(\"Training and Validation Accuracy\")\n",
    "plt.xlabel(\"epoch\")\n",
    "plt.ylabel(\"Accuracy\")\n",
    "plt.grid(True)\n",
    "plt.legend(loc=0)\n",
    "plt.show()\n",
    "\n",
    "fig = plt.figure()\n",
    "plt.plot(range(epochs), train_loss, label='Train')\n",
    "plt.plot(range(epochs), val_loss, label='Validation')\n",
    "plt.title(\"Training and Validation Loss\")\n",
    "plt.xlabel(\"epoch\")\n",
    "plt.ylabel(\"Cross entropy\")\n",
    "plt.grid(True)\n",
    "plt.legend(loc=0)\n",
    "plt.show()"
   ]
  }
 ],
 "metadata": {
  "accelerator": "GPU",
  "colab": {
   "collapsed_sections": [],
   "name": "CNN_on_CIFAR.ipynb",
   "provenance": [],
   "version": "0.3.2"
  },
  "kernelspec": {
   "display_name": "Python 3",
   "language": "python",
   "name": "python3"
  },
  "language_info": {
   "codemirror_mode": {
    "name": "ipython",
    "version": 3
   },
   "file_extension": ".py",
   "mimetype": "text/x-python",
   "name": "python",
   "nbconvert_exporter": "python",
   "pygments_lexer": "ipython3",
   "version": "3.6.7"
  }
 },
 "nbformat": 4,
 "nbformat_minor": 1
}
