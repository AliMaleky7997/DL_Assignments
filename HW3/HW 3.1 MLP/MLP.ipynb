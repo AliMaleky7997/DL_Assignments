{
 "cells": [
  {
   "cell_type": "markdown",
   "metadata": {},
   "source": [
    "# CE-40959: Deep Learning"
   ]
  },
  {
   "cell_type": "code",
   "execution_count": 1,
   "metadata": {},
   "outputs": [],
   "source": [
    "# importing modules\n",
    "from utils import load_data\n",
    "from models import Dense\n",
    "from train import train\n",
    "import tensorflow as tf\n",
    "import numpy as np\n",
    "import matplotlib.pyplot as plt\n",
    "\n",
    "%matplotlib inline\n",
    "plt.rcParams['figure.figsize'] = (10.0, 10.0) # set default size of plots\n",
    "plt.rcParams['image.interpolation'] = 'nearest'\n",
    "plt.rcParams['image.cmap'] = 'gray'\n",
    "\n",
    "# The following two lines let us reload external modules in the notebook\n",
    "%load_ext autoreload\n",
    "%autoreload 2"
   ]
  },
  {
   "cell_type": "markdown",
   "metadata": {},
   "source": [
    "# Data Description and Loading Data\n",
    "\n",
    "On this notebook, we are going to work on farsi OCR dataset. As its name implies, it is like famous **MNIST** dataset but it consists of images of handwritten digits in farsi. Each instance of this dataset is 32 * 32 gray-scale image. It is totally composed of 80000 instances. After loading this data, let's plot some images in order to see how they look like.\n",
    "\n",
    "Train, validation and test sets are loaded using a method in `utils.py`. Training set includes 0.7 of the whole dataset and test set just has 0.1 of it. Rest is assigned as validation set.\n",
    "\n",
    "**Note**: Images are flattened that's why their size is 1024 = 32 * 32."
   ]
  },
  {
   "cell_type": "code",
   "execution_count": 2,
   "metadata": {},
   "outputs": [
    {
     "name": "stdout",
     "output_type": "stream",
     "text": [
      "Loading the whole dataset...\n"
     ]
    }
   ],
   "source": [
    "x_train, y_train, x_validation, y_validation, x_test, y_test = load_data()"
   ]
  },
  {
   "cell_type": "code",
   "execution_count": 3,
   "metadata": {},
   "outputs": [
    {
     "data": {
      "image/png": "[encoded data removed]",
      "text/plain": [
       "<Figure size 432x288 with 100 Axes>"
      ]
     },
     "metadata": {
      "needs_background": "light"
     },
     "output_type": "display_data"
    }
   ],
   "source": [
    "num_sample = 10\n",
    "num_class = 10\n",
    "fig, ax = plt.subplots(nrows=num_sample, ncols=num_class)\n",
    "\n",
    "for i in range(num_class):\n",
    "    class_i_images = [x_train[k] for k in range(x_train.shape[0]) if y_train[k][i] == 1]\n",
    "    for j in range(num_sample):\n",
    "        ax[j, i].get_xaxis().set_visible(False)\n",
    "        ax[j, i].get_yaxis().set_visible(False)\n",
    "        ax[j, i].imshow(class_i_images[j].reshape((32, 32)))"
   ]
  },
  {
   "cell_type": "markdown",
   "metadata": {},
   "source": [
    "# Setting Flags\n",
    "Tensorflow has the option of setting of some flags which should be defined once and can be used in any file later.\n",
    "\n",
    "Here we define flags for\n",
    "1. `learning_rate`: Shows the initial learning rate in optimization process.\n",
    "\n",
    "2. `num_epoch`: The total number of epochs for training process.\n",
    "\n",
    "3. `weight_decay`: The coeffecient of L2 Loss term in total Loss function.\n",
    "\n",
    "4. `batch_size`: Size of each batch given to model."
   ]
  },
  {
   "cell_type": "code",
   "execution_count": 4,
   "metadata": {},
   "outputs": [],
   "source": [
    "flags = tf.app.flags\n",
    "FLAGS = flags.FLAGS\n",
    "flags.DEFINE_string('f', '', 'kernel')\n",
    "flags.DEFINE_float('learning_rate', 0.001, 'Initial learning rate.')\n",
    "flags.DEFINE_integer('num_epoch', 10, 'Number of epochs to train.')\n",
    "flags.DEFINE_float('weight_decay', 0., 'Weight for L2 loss')\n",
    "flags.DEFINE_integer('batch_size', 100, 'Size of batch')"
   ]
  },
  {
   "cell_type": "markdown",
   "metadata": {},
   "source": [
    "# Defining Initializers\n",
    "\n",
    "In the following cell we are importing some intializers which are defined in `utils.py`. Based on their explanation, you have to complete their code in `utils.py` and then import them."
   ]
  },
  {
   "cell_type": "code",
   "execution_count": 5,
   "metadata": {},
   "outputs": [],
   "source": [
    "from utils import glorot_initializer, zero_initializer, normal_initializer"
   ]
  },
  {
   "cell_type": "markdown",
   "metadata": {},
   "source": [
    "# Developing MLP Model\n",
    "\n",
    "`Dense` model is defined as a python class in `models.py`. Its constructor receives as input followings:\n",
    "\n",
    "1. num_hidden: Number of hidden units and output units.\n",
    "2. weight_initializer: Function used for initializing weights\n",
    "3. bias_initializer: Function used for initializing biases\n",
    "4. act: Activation function used for hidden layers\n",
    "5. logging: This is a boolean showing whether the model saves log of weights and biases for later visualization using tensorboard.\n",
    "6. stddev: Standard deviation in case of having normal initializer for weights of layers.\n",
    "\n",
    "You have to complete some parts of `__init__`, `_loss`, `_accuracy`, `_log_vars` and `_build` methods in this class.\n",
    "\n",
    "There is also another python file `layers.py` consists of the class `DenseLayer`. The arguments of its constructor are:\n",
    "1. input_dim: Dimension of input to layer\n",
    "2. output_dim: Dimension of output of layer\n",
    "3. act: Activation function of layer\n",
    "4. weight_initializer: Function used for initializing weights\n",
    "5. bias_initializer: Function used for initializing biases\n",
    "6. stddev: Standard deviation in case of having normal initializer for weights of the layer.\n",
    "\n",
    "Some part of `__call__` method of is left for you to complete.\n",
    "\n",
    "**Note**: It is necessary to complete aforementioned python files before moving forward to following cells."
   ]
  },
  {
   "cell_type": "markdown",
   "metadata": {},
   "source": [
    "# Experimenting on features of an MLP\n",
    "\n",
    "In the rest of this notebook, some experiments should be done on different setting like regularization, activation function, number of layers, etc combined with some visualizations."
   ]
  },
  {
   "cell_type": "markdown",
   "metadata": {},
   "source": [
    "## Different activation functions"
   ]
  },
  {
   "cell_type": "markdown",
   "metadata": {},
   "source": [
    "On the following cell we have defined a model with number of hidden units 200, 100, 50. Note that the outputs of last 10 units, after which a softmax function is applied, act as scores for 10 class of digits in data.\n",
    "\n",
    "You also have to use uniform glorot initializer and zero initializer for weights and biases, respectively.\n",
    "\n",
    "The last point here is that we are using **sigmoid** as activation function of all layers.\n",
    "\n",
    "Later, we will apply another one and observe its difference"
   ]
  },
  {
   "cell_type": "code",
   "execution_count": 6,
   "metadata": {},
   "outputs": [],
   "source": [
    "model = Dense(num_hidden=[200, 100, 50, 10],\n",
    "              weight_initializer=glorot_initializer,\n",
    "              bias_initializer=zero_initializer,\n",
    "              act=tf.nn.sigmoid,\n",
    "              logging=True)"
   ]
  },
  {
   "cell_type": "markdown",
   "metadata": {},
   "source": [
    "After defining the model we need to trigger training process by using the code partly prepared in `train.py`. After filling required lines run the following cell to start training.\n",
    "In this file some writers are defined which are later used for plotting visualizations in tensorboard framework. Summary information defined as scalars (like loss) and histograms (like weights) are saved by this writers in `logs` folder near existing files. More specifically, for each model another folder whose name came from `log_file` variable is created.\n",
    "\n",
    "Furthermore, when you define a session using `with`, the session is just restricted to its following context and can not be used in outer scope."
   ]
  },
  {
   "cell_type": "code",
   "execution_count": 7,
   "metadata": {},
   "outputs": [
    {
     "name": "stdout",
     "output_type": "stream",
     "text": [
      "Epoch 1: train loss=2.309, train acc=0.100\n",
      "\n",
      "Epoch 2: train loss=2.301, train acc=0.098\n",
      "\n",
      "Epoch 3: train loss=2.298, train acc=0.111\n",
      "\n",
      "Epoch 4: train loss=2.297, train acc=0.152\n",
      "\n",
      "Epoch 5: train loss=2.295, train acc=0.212\n",
      "\n",
      "Epoch 6: train loss=2.294, train acc=0.268\n",
      "\n",
      "Epoch 7: train loss=2.293, train acc=0.300\n",
      "\n",
      "Epoch 8: train loss=2.291, train acc=0.332\n",
      "\n",
      "Epoch 9: train loss=2.290, train acc=0.365\n",
      "\n",
      "Epoch 10: train loss=2.289, train acc=0.395\n",
      "\n",
      "Test: average loss=2.289, average accuracy=0.394\n",
      "-------\n"
     ]
    }
   ],
   "source": [
    "with tf.Session() as sess:\n",
    "    log_file = str(model.act.__name__)\n",
    "    train(x_train, y_train, x_validation, y_validation, x_test, y_test, model, sess, log_file)"
   ]
  },
  {
   "cell_type": "markdown",
   "metadata": {},
   "source": [
    "**Important Note:** In order to run different computation graphs in the same process, it is compulsary to reset the default graph to a new one which is defined later. To do so, you have to use method `tf.rest_default_graph()` as in the following cell. Otherwise, you will end up with lots of nodes in the default graph of computation."
   ]
  },
  {
   "cell_type": "code",
   "execution_count": 8,
   "metadata": {},
   "outputs": [],
   "source": [
    "tf.reset_default_graph()"
   ]
  },
  {
   "cell_type": "markdown",
   "metadata": {},
   "source": [
    "Let's maintain the same settings but change activation function to **tanh** and run the whole process again."
   ]
  },
  {
   "cell_type": "code",
   "execution_count": 9,
   "metadata": {},
   "outputs": [
    {
     "name": "stdout",
     "output_type": "stream",
     "text": [
      "Epoch 1: train loss=1.122, train acc=0.791\n",
      "\n",
      "Epoch 2: train loss=0.780, train acc=0.843\n",
      "\n",
      "Epoch 3: train loss=0.629, train acc=0.863\n",
      "\n",
      "Epoch 4: train loss=0.541, train acc=0.877\n",
      "\n",
      "Epoch 5: train loss=0.483, train acc=0.887\n",
      "\n",
      "Epoch 6: train loss=0.441, train acc=0.895\n",
      "\n",
      "Epoch 7: train loss=0.408, train acc=0.902\n",
      "\n",
      "Epoch 8: train loss=0.382, train acc=0.907\n",
      "\n",
      "Epoch 9: train loss=0.361, train acc=0.911\n",
      "\n",
      "Epoch 10: train loss=0.344, train acc=0.915\n",
      "\n",
      "Test: average loss=0.343, average accuracy=0.915\n",
      "-------\n"
     ]
    }
   ],
   "source": [
    "model = Dense(num_hidden=[200, 100, 50, 10],\n",
    "              weight_initializer=glorot_initializer,\n",
    "              bias_initializer=zero_initializer,\n",
    "              act=tf.nn.tanh,\n",
    "              logging=True)\n",
    "with tf.Session() as sess:\n",
    "    log_file = str(model.act.__name__)\n",
    "    train(x_train, y_train, x_validation, y_validation, x_test, y_test, model, sess, log_file)\n",
    "tf.reset_default_graph()"
   ]
  },
  {
   "cell_type": "markdown",
   "metadata": {},
   "source": [
    "---\n",
    "\n",
    "# Question 1\n",
    "Compare `tanh` and `sigmoid` based on above results. Explain your observation from the visualizations produced by tensorboard.\n",
    "\n",
    "---"
   ]
  },
  {
   "cell_type": "markdown",
   "metadata": {},
   "source": [
    "## Different Initializations\n",
    "\n",
    "Next we want to see the effect of aforementioned initializers."
   ]
  },
  {
   "cell_type": "markdown",
   "metadata": {},
   "source": [
    "At first we use zero initializer both for biases and weights. By doing so, specially for weight initialization, the network will get in trouble with breaking the symmetry."
   ]
  },
  {
   "cell_type": "code",
   "execution_count": 10,
   "metadata": {},
   "outputs": [
    {
     "name": "stdout",
     "output_type": "stream",
     "text": [
      "Epoch 1: train loss=2.303, train acc=0.101\n",
      "\n",
      "Epoch 2: train loss=2.303, train acc=0.101\n",
      "\n",
      "Epoch 3: train loss=2.303, train acc=0.101\n",
      "\n",
      "Epoch 4: train loss=2.303, train acc=0.101\n",
      "\n",
      "Epoch 5: train loss=2.303, train acc=0.101\n",
      "\n",
      "Epoch 6: train loss=2.303, train acc=0.101\n",
      "\n",
      "Epoch 7: train loss=2.303, train acc=0.101\n",
      "\n",
      "Epoch 8: train loss=2.302, train acc=0.101\n",
      "\n",
      "Epoch 9: train loss=2.303, train acc=0.101\n",
      "\n",
      "Epoch 10: train loss=2.303, train acc=0.101\n",
      "\n",
      "Test: average loss=2.303, average accuracy=0.098\n",
      "-------\n"
     ]
    }
   ],
   "source": [
    "model = Dense(num_hidden=[200, 50, 10],\n",
    "              weight_initializer=zero_initializer,\n",
    "              bias_initializer=zero_initializer,\n",
    "              act=tf.nn.tanh,\n",
    "              logging=True)\n",
    "\n",
    "with tf.Session() as sess:\n",
    "    log_file = str(model.act.__name__) + \"_\" + str(model.weight_initializer.__name__)\n",
    "    train(x_train, y_train, x_validation, y_validation, x_test, y_test, model, sess, log_file)\n",
    "tf.reset_default_graph()    "
   ]
  },
  {
   "cell_type": "markdown",
   "metadata": {},
   "source": [
    "***\n",
    "\n",
    "# Question 2\n",
    "\n",
    "Use tensorboard visualizations of weights and learning curves (like loss and accuracy) as well to discuss about the issue raised by using zeros initializer for weights.\n",
    "\n",
    "---"
   ]
  },
  {
   "cell_type": "markdown",
   "metadata": {},
   "source": [
    "Let's see what is the impact of using normal initializer for weights.\n",
    "\n",
    "Do not forget to send in standard deviation of gaussain distribution used for sampling weights as an argument to model constructor for all next experiments."
   ]
  },
  {
   "cell_type": "code",
   "execution_count": 11,
   "metadata": {},
   "outputs": [
    {
     "name": "stdout",
     "output_type": "stream",
     "text": [
      "Normal Initializer with stddev: 10\n",
      "Epoch 1: train loss=97.629, train acc=0.101\n",
      "\n",
      "Epoch 2: train loss=95.269, train acc=0.104\n",
      "\n",
      "Epoch 3: train loss=93.236, train acc=0.106\n",
      "\n",
      "Epoch 4: train loss=91.288, train acc=0.108\n",
      "\n",
      "Epoch 5: train loss=89.495, train acc=0.112\n",
      "\n",
      "Epoch 6: train loss=87.784, train acc=0.113\n",
      "\n",
      "Epoch 7: train loss=86.206, train acc=0.116\n",
      "\n",
      "Epoch 8: train loss=84.648, train acc=0.118\n",
      "\n",
      "Epoch 9: train loss=83.190, train acc=0.120\n",
      "\n",
      "Epoch 10: train loss=81.792, train acc=0.123\n",
      "\n",
      "Test: average loss=84.180, average accuracy=0.119\n",
      "-------\n",
      "Normal Initializer with stddev: 1\n",
      "Epoch 1: train loss=7.741, train acc=0.139\n",
      "\n",
      "Epoch 2: train loss=6.813, train acc=0.173\n",
      "\n",
      "Epoch 3: train loss=6.051, train acc=0.209\n",
      "\n",
      "Epoch 4: train loss=5.421, train acc=0.243\n",
      "\n",
      "Epoch 5: train loss=4.906, train acc=0.277\n",
      "\n",
      "Epoch 6: train loss=4.479, train acc=0.307\n",
      "\n",
      "Epoch 7: train loss=4.119, train acc=0.336\n",
      "\n",
      "Epoch 8: train loss=3.815, train acc=0.363\n",
      "\n",
      "Epoch 9: train loss=3.556, train acc=0.387\n",
      "\n",
      "Epoch 10: train loss=3.333, train acc=0.410\n",
      "\n",
      "Test: average loss=3.424, average accuracy=0.406\n",
      "-------\n",
      "Normal Initializer with stddev: 0.1\n",
      "Epoch 1: train loss=1.898, train acc=0.502\n",
      "\n",
      "Epoch 2: train loss=1.550, train acc=0.692\n",
      "\n",
      "Epoch 3: train loss=1.284, train acc=0.763\n",
      "\n",
      "Epoch 4: train loss=1.086, train acc=0.798\n",
      "\n",
      "Epoch 5: train loss=0.940, train acc=0.817\n",
      "\n",
      "Epoch 6: train loss=0.830, train acc=0.830\n",
      "\n",
      "Epoch 7: train loss=0.747, train acc=0.840\n",
      "\n",
      "Epoch 8: train loss=0.681, train acc=0.849\n",
      "\n",
      "Epoch 9: train loss=0.629, train acc=0.855\n",
      "\n",
      "Epoch 10: train loss=0.586, train acc=0.862\n",
      "\n",
      "Test: average loss=0.586, average accuracy=0.862\n",
      "-------\n"
     ]
    }
   ],
   "source": [
    "stddev_list = [10, 1, 0.1]\n",
    "for stddev in stddev_list:\n",
    "    print('Normal Initializer with stddev: {}'.format(stddev))\n",
    "    model = Dense(num_hidden=[200, 50, 10],\n",
    "                  weight_initializer=normal_initializer,\n",
    "                  bias_initializer=zero_initializer,\n",
    "                  act=tf.nn.tanh,\n",
    "                  logging=True,\n",
    "                  stddev=stddev)\n",
    "\n",
    "    with tf.Session() as sess:\n",
    "        log_file = str(model.act.__name__) + \"_\" + str(model.weight_initializer.__name__) + \"_\" + str(stddev)\n",
    "        train(x_train, y_train, x_validation, y_validation, x_test, y_test, model, sess, log_file)\n",
    "    tf.reset_default_graph()"
   ]
  },
  {
   "cell_type": "markdown",
   "metadata": {},
   "source": [
    "---\n",
    "\n",
    "# Question 3\n",
    "\n",
    "Use tensorboard visualizations of weights and learning curves (like loss and accuracy) as well to describe differences through training process caused by using different standard deviations.\n",
    "\n",
    "---"
   ]
  },
  {
   "cell_type": "markdown",
   "metadata": {},
   "source": [
    "## Different Architectures (layers and units)\n",
    "\n",
    "Next, we will cast light on the importance of architecture of neural networks (more specifically number of layers and units)\n",
    "\n",
    "Here we will examine two architectures. Comparing with above setting, we will increase the number of epochs to 15 and change learning rate to 0.01. What makes difference between two architectures is the number of layers and units.\n",
    "\n",
    "In the first one we have 3 hidden layers with 500, 100, 50 units, respectively. This model imposes high computational cost. On the other hand, the second network has one less hidden layer but same number of units in the rest of layers. Totally it has less complexity in terms of number of parameters compared with the first network."
   ]
  },
  {
   "cell_type": "code",
   "execution_count": 12,
   "metadata": {},
   "outputs": [
    {
     "name": "stdout",
     "output_type": "stream",
     "text": [
      "Number of hidden units:  [500, 100, 50, 10]\n",
      "Epoch 1: train loss=3.414, train acc=0.396\n",
      "\n",
      "Epoch 2: train loss=2.143, train acc=0.542\n",
      "\n",
      "Epoch 3: train loss=1.603, train acc=0.622\n",
      "\n",
      "Epoch 4: train loss=1.294, train acc=0.674\n",
      "\n",
      "Epoch 5: train loss=1.105, train acc=0.710\n",
      "\n",
      "Epoch 6: train loss=0.978, train acc=0.737\n",
      "\n",
      "Epoch 7: train loss=0.882, train acc=0.758\n",
      "\n",
      "Epoch 8: train loss=0.811, train acc=0.774\n",
      "\n",
      "Epoch 9: train loss=0.754, train acc=0.787\n",
      "\n",
      "Epoch 10: train loss=0.706, train acc=0.799\n",
      "\n",
      "Epoch 11: train loss=0.667, train acc=0.809\n",
      "\n",
      "Epoch 12: train loss=0.633, train acc=0.818\n",
      "\n",
      "Epoch 13: train loss=0.605, train acc=0.827\n",
      "\n",
      "Epoch 14: train loss=0.579, train acc=0.834\n",
      "\n",
      "Epoch 15: train loss=0.556, train acc=0.840\n",
      "\n",
      "Test: average loss=1.151, average accuracy=0.699\n",
      "-------\n",
      "Number of hidden units:  [100, 50, 10]\n",
      "Epoch 1: train loss=2.920, train acc=0.448\n",
      "\n",
      "Epoch 2: train loss=1.946, train acc=0.584\n",
      "\n",
      "Epoch 3: train loss=1.547, train acc=0.646\n",
      "\n",
      "Epoch 4: train loss=1.316, train acc=0.684\n",
      "\n",
      "Epoch 5: train loss=1.161, train acc=0.711\n",
      "\n",
      "Epoch 6: train loss=1.047, train acc=0.730\n",
      "\n",
      "Epoch 7: train loss=0.961, train acc=0.745\n",
      "\n",
      "Epoch 8: train loss=0.891, train acc=0.758\n",
      "\n",
      "Epoch 9: train loss=0.835, train acc=0.769\n",
      "\n",
      "Epoch 10: train loss=0.787, train acc=0.780\n",
      "\n",
      "Epoch 11: train loss=0.746, train acc=0.788\n",
      "\n",
      "Epoch 12: train loss=0.711, train acc=0.796\n",
      "\n",
      "Epoch 13: train loss=0.680, train acc=0.803\n",
      "\n",
      "Epoch 14: train loss=0.653, train acc=0.809\n",
      "\n",
      "Epoch 15: train loss=0.630, train acc=0.815\n",
      "\n",
      "Test: average loss=0.752, average accuracy=0.790\n",
      "-------\n"
     ]
    }
   ],
   "source": [
    "FLAGS.num_epoch = 15\n",
    "FLAGS.learning_rate = 0.01\n",
    "num_hidden_list = [[500, 100, 50, 10], [100, 50, 10]]\n",
    "stddev = 1\n",
    "for num_hidden in num_hidden_list:\n",
    "    print('Number of hidden units: ', num_hidden)\n",
    "    model = Dense(num_hidden=num_hidden,\n",
    "                  weight_initializer=normal_initializer,\n",
    "                  bias_initializer=zero_initializer,\n",
    "                  act=tf.nn.tanh,\n",
    "                  logging=True,\n",
    "                  stddev=stddev)\n",
    "    with tf.Session() as sess:\n",
    "        log_file = str(model.act.__name__) + \"_\" + str(model.num_hidden)\n",
    "        train(x_train, y_train, x_validation, y_validation, x_test, y_test, model, sess, log_file)\n",
    "    tf.reset_default_graph()"
   ]
  },
  {
   "cell_type": "markdown",
   "metadata": {},
   "source": [
    "---\n",
    "# Question 4\n",
    "By using tensorboard visualiztions justify the different outcomes of training the above two neural network architectures.\n",
    "\n",
    "---"
   ]
  },
  {
   "cell_type": "markdown",
   "metadata": {},
   "source": [
    "## Regularization\n",
    "\n",
    "Another important point to consider is applying regularization and being aware of its impact on training and generalization. Its most important rule is to prevent our learning process from overfitting (you may have encountered this phenomenon above!)\n",
    "\n",
    "In first experiment L2 regularization technique is not applied. However, in rest of them, it is used for penalizing two sets of weights:\n",
    "\n",
    "1. Weights between input and first hidden layer.\n",
    "2. Weights between first and second hidden layer."
   ]
  },
  {
   "cell_type": "code",
   "execution_count": 14,
   "metadata": {},
   "outputs": [
    {
     "name": "stdout",
     "output_type": "stream",
     "text": [
      "Weight decay of: 10\n",
      "Epoch 1: train loss=2.192, train acc=0.457\n",
      "\n",
      "Epoch 2: train loss=2.715, train acc=0.280\n",
      "\n",
      "Epoch 3: train loss=2.468, train acc=0.375\n",
      "\n",
      "Epoch 4: train loss=2.240, train acc=0.502\n",
      "\n",
      "Epoch 5: train loss=2.305, train acc=0.450\n",
      "\n",
      "Epoch 6: train loss=2.733, train acc=0.371\n",
      "\n",
      "Epoch 7: train loss=2.344, train acc=0.513\n",
      "\n",
      "Epoch 8: train loss=2.206, train acc=0.518\n",
      "\n",
      "Epoch 9: train loss=2.198, train acc=0.527\n",
      "\n",
      "Epoch 10: train loss=1.852, train acc=0.631\n",
      "\n",
      "Epoch 11: train loss=2.234, train acc=0.495\n",
      "\n",
      "Epoch 12: train loss=3.633, train acc=0.205\n",
      "\n",
      "Epoch 13: train loss=3.376, train acc=0.280\n",
      "\n",
      "Epoch 14: train loss=2.136, train acc=0.593\n",
      "\n",
      "Epoch 15: train loss=4.143, train acc=0.204\n",
      "\n",
      "Test: average loss=4.128, average accuracy=0.208\n",
      "-------\n"
     ]
    }
   ],
   "source": [
    "weight_decay_list = [0., 1e-4, 1e-3, 1e-2, 1e-1]\n",
    "weight_decay_list = [10]\n",
    "for weight_decay in weight_decay_list:\n",
    "    print('Weight decay of: {}'.format(weight_decay))\n",
    "    FLAGS.weight_decay = weight_decay \n",
    "    model = Dense(num_hidden=[500, 100, 50, 10],\n",
    "                  weight_initializer=normal_initializer,\n",
    "                  bias_initializer=zero_initializer,\n",
    "                  act=tf.nn.tanh,\n",
    "                  logging=True,\n",
    "                  stddev=1)\n",
    "    with tf.Session() as sess:\n",
    "        log_file = str(model.act.__name__) + \"_\" + str(FLAGS.weight_decay)\n",
    "        train(x_train, y_train, x_validation, y_validation, x_test, y_test, model, sess, log_file)\n",
    "    tf.reset_default_graph()"
   ]
  },
  {
   "cell_type": "markdown",
   "metadata": {},
   "source": [
    "---\n",
    "# Question 5\n",
    "By using visualiztion of learning curves (specially loss curve) try to explain the impact that L2 regularization had on training process.\n",
    "\n",
    "---"
   ]
  },
  {
   "cell_type": "markdown",
   "metadata": {},
   "source": [
    "### **Note**: \n",
    "So far, some questions were placed between cells of codes and descriptions. \n",
    "\n",
    "In addition to **completing the code files**, please send a **report** including your answer to these questions as well. Do not forget to put the diagrams and visualizations needed in each part."
   ]
  }
 ],
 "metadata": {
  "kernelspec": {
   "display_name": "Python 3",
   "language": "python",
   "name": "python3"
  },
  "language_info": {
   "codemirror_mode": {
    "name": "ipython",
    "version": 3
   },
   "file_extension": ".py",
   "mimetype": "text/x-python",
   "name": "python",
   "nbconvert_exporter": "python",
   "pygments_lexer": "ipython3",
   "version": "3.6.7"
  }
 },
 "nbformat": 4,
 "nbformat_minor": 2
}
